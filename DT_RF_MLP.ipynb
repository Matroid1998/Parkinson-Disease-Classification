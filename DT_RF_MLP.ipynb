{
  "cells": [
    {
      "cell_type": "code",
      "execution_count": 1,
      "metadata": {
        "id": "ujwBL0iZyW9y"
      },
      "outputs": [],
      "source": [
        "import numpy as np\n",
        "import pandas as pd\n",
        "from sklearn.metrics import accuracy_score,precision_score,recall_score,f1_score\n"
      ]
    },
    {
      "cell_type": "code",
      "execution_count": 2,
      "metadata": {
        "id": "w_F4XgwfyZ2Z"
      },
      "outputs": [],
      "source": [
        "df = pd.read_csv('pd_speech_features.csv',header=1)"
      ]
    },
    {
      "cell_type": "code",
      "execution_count": 3,
      "metadata": {
        "colab": {
          "base_uri": "https://localhost:8080/",
          "height": 487
        },
        "id": "UkZFKcoJzNvM",
        "outputId": "c8ed1de0-2a06-468d-af0e-3839d8967f6d"
      },
      "outputs": [
        {
          "output_type": "execute_result",
          "data": {
            "text/plain": [
              "      id  gender      PPE      DFA     RPDE  numPulses  numPeriodsPulses  \\\n",
              "0      0       1  0.85247  0.71826  0.57227        240               239   \n",
              "1      0       1  0.76686  0.69481  0.53966        234               233   \n",
              "2      0       1  0.85083  0.67604  0.58982        232               231   \n",
              "3      1       0  0.41121  0.79672  0.59257        178               177   \n",
              "4      1       0  0.32790  0.79782  0.53028        236               235   \n",
              "..   ...     ...      ...      ...      ...        ...               ...   \n",
              "751  250       0  0.80903  0.56355  0.28385        417               416   \n",
              "752  250       0  0.16084  0.56499  0.59194        415               413   \n",
              "753  251       0  0.88389  0.72335  0.46815        381               380   \n",
              "754  251       0  0.83782  0.74890  0.49823        340               339   \n",
              "755  251       0  0.81304  0.76471  0.46374        340               339   \n",
              "\n",
              "     meanPeriodPulses  stdDevPeriodPulses  locPctJitter  ...  \\\n",
              "0            0.008064            0.000087       0.00218  ...   \n",
              "1            0.008258            0.000073       0.00195  ...   \n",
              "2            0.008340            0.000060       0.00176  ...   \n",
              "3            0.010858            0.000183       0.00419  ...   \n",
              "4            0.008162            0.002669       0.00535  ...   \n",
              "..                ...                 ...           ...  ...   \n",
              "751          0.004627            0.000052       0.00064  ...   \n",
              "752          0.004550            0.000220       0.00143  ...   \n",
              "753          0.005069            0.000103       0.00076  ...   \n",
              "754          0.005679            0.000055       0.00092  ...   \n",
              "755          0.005676            0.000037       0.00078  ...   \n",
              "\n",
              "     tqwt_kurtosisValue_dec_28  tqwt_kurtosisValue_dec_29  \\\n",
              "0                       1.5620                     2.6445   \n",
              "1                       1.5589                     3.6107   \n",
              "2                       1.5643                     2.3308   \n",
              "3                       3.7805                     3.5664   \n",
              "4                       6.1727                     5.8416   \n",
              "..                         ...                        ...   \n",
              "751                     3.0706                     3.0190   \n",
              "752                     1.9704                     1.7451   \n",
              "753                    51.5607                    44.4641   \n",
              "754                    19.1607                    12.8312   \n",
              "755                    62.9927                    21.8152   \n",
              "\n",
              "     tqwt_kurtosisValue_dec_30  tqwt_kurtosisValue_dec_31  \\\n",
              "0                       3.8686                     4.2105   \n",
              "1                      23.5155                    14.1962   \n",
              "2                       9.4959                    10.7458   \n",
              "3                       5.2558                    14.0403   \n",
              "4                       6.0805                     5.7621   \n",
              "..                         ...                        ...   \n",
              "751                     3.1212                     2.4921   \n",
              "752                     1.8277                     2.4976   \n",
              "753                    26.1586                     6.3076   \n",
              "754                     8.9434                     2.2044   \n",
              "755                     9.2457                     4.8555   \n",
              "\n",
              "     tqwt_kurtosisValue_dec_32  tqwt_kurtosisValue_dec_33  \\\n",
              "0                       5.1221                     4.4625   \n",
              "1                      11.0261                     9.5082   \n",
              "2                      11.0177                     4.8066   \n",
              "3                       4.2235                     4.6857   \n",
              "4                       7.7817                    11.6891   \n",
              "..                         ...                        ...   \n",
              "751                     3.5844                     3.5400   \n",
              "752                     5.2981                     4.2616   \n",
              "753                     2.8601                     2.5361   \n",
              "754                     1.9496                     1.9664   \n",
              "755                     3.0551                     3.0415   \n",
              "\n",
              "     tqwt_kurtosisValue_dec_34  tqwt_kurtosisValue_dec_35  \\\n",
              "0                       2.6202                     3.0004   \n",
              "1                       6.5245                     6.3431   \n",
              "2                       2.9199                     3.1495   \n",
              "3                       4.8460                     6.2650   \n",
              "4                       8.2103                     5.0559   \n",
              "..                         ...                        ...   \n",
              "751                     3.3805                     3.2003   \n",
              "752                     6.3042                    10.9058   \n",
              "753                     3.5377                     3.3545   \n",
              "754                     2.6801                     2.8332   \n",
              "755                     4.0116                     2.6217   \n",
              "\n",
              "     tqwt_kurtosisValue_dec_36  class  \n",
              "0                      18.9405      1  \n",
              "1                      45.1780      1  \n",
              "2                       4.7666      1  \n",
              "3                       4.0603      1  \n",
              "4                       6.1164      1  \n",
              "..                         ...    ...  \n",
              "751                     6.8671      0  \n",
              "752                    28.4170      0  \n",
              "753                     5.0424      0  \n",
              "754                     3.7131      0  \n",
              "755                     3.1527      0  \n",
              "\n",
              "[756 rows x 755 columns]"
            ],
            "text/html": [
              "\n",
              "  <div id=\"df-ea652423-39bd-40e5-b14f-9e5762ca3ffc\">\n",
              "    <div class=\"colab-df-container\">\n",
              "      <div>\n",
              "<style scoped>\n",
              "    .dataframe tbody tr th:only-of-type {\n",
              "        vertical-align: middle;\n",
              "    }\n",
              "\n",
              "    .dataframe tbody tr th {\n",
              "        vertical-align: top;\n",
              "    }\n",
              "\n",
              "    .dataframe thead th {\n",
              "        text-align: right;\n",
              "    }\n",
              "</style>\n",
              "<table border=\"1\" class=\"dataframe\">\n",
              "  <thead>\n",
              "    <tr style=\"text-align: right;\">\n",
              "      <th></th>\n",
              "      <th>id</th>\n",
              "      <th>gender</th>\n",
              "      <th>PPE</th>\n",
              "      <th>DFA</th>\n",
              "      <th>RPDE</th>\n",
              "      <th>numPulses</th>\n",
              "      <th>numPeriodsPulses</th>\n",
              "      <th>meanPeriodPulses</th>\n",
              "      <th>stdDevPeriodPulses</th>\n",
              "      <th>locPctJitter</th>\n",
              "      <th>...</th>\n",
              "      <th>tqwt_kurtosisValue_dec_28</th>\n",
              "      <th>tqwt_kurtosisValue_dec_29</th>\n",
              "      <th>tqwt_kurtosisValue_dec_30</th>\n",
              "      <th>tqwt_kurtosisValue_dec_31</th>\n",
              "      <th>tqwt_kurtosisValue_dec_32</th>\n",
              "      <th>tqwt_kurtosisValue_dec_33</th>\n",
              "      <th>tqwt_kurtosisValue_dec_34</th>\n",
              "      <th>tqwt_kurtosisValue_dec_35</th>\n",
              "      <th>tqwt_kurtosisValue_dec_36</th>\n",
              "      <th>class</th>\n",
              "    </tr>\n",
              "  </thead>\n",
              "  <tbody>\n",
              "    <tr>\n",
              "      <th>0</th>\n",
              "      <td>0</td>\n",
              "      <td>1</td>\n",
              "      <td>0.85247</td>\n",
              "      <td>0.71826</td>\n",
              "      <td>0.57227</td>\n",
              "      <td>240</td>\n",
              "      <td>239</td>\n",
              "      <td>0.008064</td>\n",
              "      <td>0.000087</td>\n",
              "      <td>0.00218</td>\n",
              "      <td>...</td>\n",
              "      <td>1.5620</td>\n",
              "      <td>2.6445</td>\n",
              "      <td>3.8686</td>\n",
              "      <td>4.2105</td>\n",
              "      <td>5.1221</td>\n",
              "      <td>4.4625</td>\n",
              "      <td>2.6202</td>\n",
              "      <td>3.0004</td>\n",
              "      <td>18.9405</td>\n",
              "      <td>1</td>\n",
              "    </tr>\n",
              "    <tr>\n",
              "      <th>1</th>\n",
              "      <td>0</td>\n",
              "      <td>1</td>\n",
              "      <td>0.76686</td>\n",
              "      <td>0.69481</td>\n",
              "      <td>0.53966</td>\n",
              "      <td>234</td>\n",
              "      <td>233</td>\n",
              "      <td>0.008258</td>\n",
              "      <td>0.000073</td>\n",
              "      <td>0.00195</td>\n",
              "      <td>...</td>\n",
              "      <td>1.5589</td>\n",
              "      <td>3.6107</td>\n",
              "      <td>23.5155</td>\n",
              "      <td>14.1962</td>\n",
              "      <td>11.0261</td>\n",
              "      <td>9.5082</td>\n",
              "      <td>6.5245</td>\n",
              "      <td>6.3431</td>\n",
              "      <td>45.1780</td>\n",
              "      <td>1</td>\n",
              "    </tr>\n",
              "    <tr>\n",
              "      <th>2</th>\n",
              "      <td>0</td>\n",
              "      <td>1</td>\n",
              "      <td>0.85083</td>\n",
              "      <td>0.67604</td>\n",
              "      <td>0.58982</td>\n",
              "      <td>232</td>\n",
              "      <td>231</td>\n",
              "      <td>0.008340</td>\n",
              "      <td>0.000060</td>\n",
              "      <td>0.00176</td>\n",
              "      <td>...</td>\n",
              "      <td>1.5643</td>\n",
              "      <td>2.3308</td>\n",
              "      <td>9.4959</td>\n",
              "      <td>10.7458</td>\n",
              "      <td>11.0177</td>\n",
              "      <td>4.8066</td>\n",
              "      <td>2.9199</td>\n",
              "      <td>3.1495</td>\n",
              "      <td>4.7666</td>\n",
              "      <td>1</td>\n",
              "    </tr>\n",
              "    <tr>\n",
              "      <th>3</th>\n",
              "      <td>1</td>\n",
              "      <td>0</td>\n",
              "      <td>0.41121</td>\n",
              "      <td>0.79672</td>\n",
              "      <td>0.59257</td>\n",
              "      <td>178</td>\n",
              "      <td>177</td>\n",
              "      <td>0.010858</td>\n",
              "      <td>0.000183</td>\n",
              "      <td>0.00419</td>\n",
              "      <td>...</td>\n",
              "      <td>3.7805</td>\n",
              "      <td>3.5664</td>\n",
              "      <td>5.2558</td>\n",
              "      <td>14.0403</td>\n",
              "      <td>4.2235</td>\n",
              "      <td>4.6857</td>\n",
              "      <td>4.8460</td>\n",
              "      <td>6.2650</td>\n",
              "      <td>4.0603</td>\n",
              "      <td>1</td>\n",
              "    </tr>\n",
              "    <tr>\n",
              "      <th>4</th>\n",
              "      <td>1</td>\n",
              "      <td>0</td>\n",
              "      <td>0.32790</td>\n",
              "      <td>0.79782</td>\n",
              "      <td>0.53028</td>\n",
              "      <td>236</td>\n",
              "      <td>235</td>\n",
              "      <td>0.008162</td>\n",
              "      <td>0.002669</td>\n",
              "      <td>0.00535</td>\n",
              "      <td>...</td>\n",
              "      <td>6.1727</td>\n",
              "      <td>5.8416</td>\n",
              "      <td>6.0805</td>\n",
              "      <td>5.7621</td>\n",
              "      <td>7.7817</td>\n",
              "      <td>11.6891</td>\n",
              "      <td>8.2103</td>\n",
              "      <td>5.0559</td>\n",
              "      <td>6.1164</td>\n",
              "      <td>1</td>\n",
              "    </tr>\n",
              "    <tr>\n",
              "      <th>...</th>\n",
              "      <td>...</td>\n",
              "      <td>...</td>\n",
              "      <td>...</td>\n",
              "      <td>...</td>\n",
              "      <td>...</td>\n",
              "      <td>...</td>\n",
              "      <td>...</td>\n",
              "      <td>...</td>\n",
              "      <td>...</td>\n",
              "      <td>...</td>\n",
              "      <td>...</td>\n",
              "      <td>...</td>\n",
              "      <td>...</td>\n",
              "      <td>...</td>\n",
              "      <td>...</td>\n",
              "      <td>...</td>\n",
              "      <td>...</td>\n",
              "      <td>...</td>\n",
              "      <td>...</td>\n",
              "      <td>...</td>\n",
              "      <td>...</td>\n",
              "    </tr>\n",
              "    <tr>\n",
              "      <th>751</th>\n",
              "      <td>250</td>\n",
              "      <td>0</td>\n",
              "      <td>0.80903</td>\n",
              "      <td>0.56355</td>\n",
              "      <td>0.28385</td>\n",
              "      <td>417</td>\n",
              "      <td>416</td>\n",
              "      <td>0.004627</td>\n",
              "      <td>0.000052</td>\n",
              "      <td>0.00064</td>\n",
              "      <td>...</td>\n",
              "      <td>3.0706</td>\n",
              "      <td>3.0190</td>\n",
              "      <td>3.1212</td>\n",
              "      <td>2.4921</td>\n",
              "      <td>3.5844</td>\n",
              "      <td>3.5400</td>\n",
              "      <td>3.3805</td>\n",
              "      <td>3.2003</td>\n",
              "      <td>6.8671</td>\n",
              "      <td>0</td>\n",
              "    </tr>\n",
              "    <tr>\n",
              "      <th>752</th>\n",
              "      <td>250</td>\n",
              "      <td>0</td>\n",
              "      <td>0.16084</td>\n",
              "      <td>0.56499</td>\n",
              "      <td>0.59194</td>\n",
              "      <td>415</td>\n",
              "      <td>413</td>\n",
              "      <td>0.004550</td>\n",
              "      <td>0.000220</td>\n",
              "      <td>0.00143</td>\n",
              "      <td>...</td>\n",
              "      <td>1.9704</td>\n",
              "      <td>1.7451</td>\n",
              "      <td>1.8277</td>\n",
              "      <td>2.4976</td>\n",
              "      <td>5.2981</td>\n",
              "      <td>4.2616</td>\n",
              "      <td>6.3042</td>\n",
              "      <td>10.9058</td>\n",
              "      <td>28.4170</td>\n",
              "      <td>0</td>\n",
              "    </tr>\n",
              "    <tr>\n",
              "      <th>753</th>\n",
              "      <td>251</td>\n",
              "      <td>0</td>\n",
              "      <td>0.88389</td>\n",
              "      <td>0.72335</td>\n",
              "      <td>0.46815</td>\n",
              "      <td>381</td>\n",
              "      <td>380</td>\n",
              "      <td>0.005069</td>\n",
              "      <td>0.000103</td>\n",
              "      <td>0.00076</td>\n",
              "      <td>...</td>\n",
              "      <td>51.5607</td>\n",
              "      <td>44.4641</td>\n",
              "      <td>26.1586</td>\n",
              "      <td>6.3076</td>\n",
              "      <td>2.8601</td>\n",
              "      <td>2.5361</td>\n",
              "      <td>3.5377</td>\n",
              "      <td>3.3545</td>\n",
              "      <td>5.0424</td>\n",
              "      <td>0</td>\n",
              "    </tr>\n",
              "    <tr>\n",
              "      <th>754</th>\n",
              "      <td>251</td>\n",
              "      <td>0</td>\n",
              "      <td>0.83782</td>\n",
              "      <td>0.74890</td>\n",
              "      <td>0.49823</td>\n",
              "      <td>340</td>\n",
              "      <td>339</td>\n",
              "      <td>0.005679</td>\n",
              "      <td>0.000055</td>\n",
              "      <td>0.00092</td>\n",
              "      <td>...</td>\n",
              "      <td>19.1607</td>\n",
              "      <td>12.8312</td>\n",
              "      <td>8.9434</td>\n",
              "      <td>2.2044</td>\n",
              "      <td>1.9496</td>\n",
              "      <td>1.9664</td>\n",
              "      <td>2.6801</td>\n",
              "      <td>2.8332</td>\n",
              "      <td>3.7131</td>\n",
              "      <td>0</td>\n",
              "    </tr>\n",
              "    <tr>\n",
              "      <th>755</th>\n",
              "      <td>251</td>\n",
              "      <td>0</td>\n",
              "      <td>0.81304</td>\n",
              "      <td>0.76471</td>\n",
              "      <td>0.46374</td>\n",
              "      <td>340</td>\n",
              "      <td>339</td>\n",
              "      <td>0.005676</td>\n",
              "      <td>0.000037</td>\n",
              "      <td>0.00078</td>\n",
              "      <td>...</td>\n",
              "      <td>62.9927</td>\n",
              "      <td>21.8152</td>\n",
              "      <td>9.2457</td>\n",
              "      <td>4.8555</td>\n",
              "      <td>3.0551</td>\n",
              "      <td>3.0415</td>\n",
              "      <td>4.0116</td>\n",
              "      <td>2.6217</td>\n",
              "      <td>3.1527</td>\n",
              "      <td>0</td>\n",
              "    </tr>\n",
              "  </tbody>\n",
              "</table>\n",
              "<p>756 rows × 755 columns</p>\n",
              "</div>\n",
              "      <button class=\"colab-df-convert\" onclick=\"convertToInteractive('df-ea652423-39bd-40e5-b14f-9e5762ca3ffc')\"\n",
              "              title=\"Convert this dataframe to an interactive table.\"\n",
              "              style=\"display:none;\">\n",
              "        \n",
              "  <svg xmlns=\"http://www.w3.org/2000/svg\" height=\"24px\"viewBox=\"0 0 24 24\"\n",
              "       width=\"24px\">\n",
              "    <path d=\"M0 0h24v24H0V0z\" fill=\"none\"/>\n",
              "    <path d=\"M18.56 5.44l.94 2.06.94-2.06 2.06-.94-2.06-.94-.94-2.06-.94 2.06-2.06.94zm-11 1L8.5 8.5l.94-2.06 2.06-.94-2.06-.94L8.5 2.5l-.94 2.06-2.06.94zm10 10l.94 2.06.94-2.06 2.06-.94-2.06-.94-.94-2.06-.94 2.06-2.06.94z\"/><path d=\"M17.41 7.96l-1.37-1.37c-.4-.4-.92-.59-1.43-.59-.52 0-1.04.2-1.43.59L10.3 9.45l-7.72 7.72c-.78.78-.78 2.05 0 2.83L4 21.41c.39.39.9.59 1.41.59.51 0 1.02-.2 1.41-.59l7.78-7.78 2.81-2.81c.8-.78.8-2.07 0-2.86zM5.41 20L4 18.59l7.72-7.72 1.47 1.35L5.41 20z\"/>\n",
              "  </svg>\n",
              "      </button>\n",
              "      \n",
              "  <style>\n",
              "    .colab-df-container {\n",
              "      display:flex;\n",
              "      flex-wrap:wrap;\n",
              "      gap: 12px;\n",
              "    }\n",
              "\n",
              "    .colab-df-convert {\n",
              "      background-color: #E8F0FE;\n",
              "      border: none;\n",
              "      border-radius: 50%;\n",
              "      cursor: pointer;\n",
              "      display: none;\n",
              "      fill: #1967D2;\n",
              "      height: 32px;\n",
              "      padding: 0 0 0 0;\n",
              "      width: 32px;\n",
              "    }\n",
              "\n",
              "    .colab-df-convert:hover {\n",
              "      background-color: #E2EBFA;\n",
              "      box-shadow: 0px 1px 2px rgba(60, 64, 67, 0.3), 0px 1px 3px 1px rgba(60, 64, 67, 0.15);\n",
              "      fill: #174EA6;\n",
              "    }\n",
              "\n",
              "    [theme=dark] .colab-df-convert {\n",
              "      background-color: #3B4455;\n",
              "      fill: #D2E3FC;\n",
              "    }\n",
              "\n",
              "    [theme=dark] .colab-df-convert:hover {\n",
              "      background-color: #434B5C;\n",
              "      box-shadow: 0px 1px 3px 1px rgba(0, 0, 0, 0.15);\n",
              "      filter: drop-shadow(0px 1px 2px rgba(0, 0, 0, 0.3));\n",
              "      fill: #FFFFFF;\n",
              "    }\n",
              "  </style>\n",
              "\n",
              "      <script>\n",
              "        const buttonEl =\n",
              "          document.querySelector('#df-ea652423-39bd-40e5-b14f-9e5762ca3ffc button.colab-df-convert');\n",
              "        buttonEl.style.display =\n",
              "          google.colab.kernel.accessAllowed ? 'block' : 'none';\n",
              "\n",
              "        async function convertToInteractive(key) {\n",
              "          const element = document.querySelector('#df-ea652423-39bd-40e5-b14f-9e5762ca3ffc');\n",
              "          const dataTable =\n",
              "            await google.colab.kernel.invokeFunction('convertToInteractive',\n",
              "                                                     [key], {});\n",
              "          if (!dataTable) return;\n",
              "\n",
              "          const docLinkHtml = 'Like what you see? Visit the ' +\n",
              "            '<a target=\"_blank\" href=https://colab.research.google.com/notebooks/data_table.ipynb>data table notebook</a>'\n",
              "            + ' to learn more about interactive tables.';\n",
              "          element.innerHTML = '';\n",
              "          dataTable['output_type'] = 'display_data';\n",
              "          await google.colab.output.renderOutput(dataTable, element);\n",
              "          const docLink = document.createElement('div');\n",
              "          docLink.innerHTML = docLinkHtml;\n",
              "          element.appendChild(docLink);\n",
              "        }\n",
              "      </script>\n",
              "    </div>\n",
              "  </div>\n",
              "  "
            ]
          },
          "metadata": {},
          "execution_count": 3
        }
      ],
      "source": [
        "df"
      ]
    },
    {
      "cell_type": "code",
      "execution_count": 4,
      "metadata": {
        "colab": {
          "base_uri": "https://localhost:8080/"
        },
        "id": "8KzdwL3UzPHp",
        "outputId": "a77b8838-23d0-4aff-c65d-f18b8c9a13d8"
      },
      "outputs": [
        {
          "output_type": "stream",
          "name": "stdout",
          "text": [
            "<class 'pandas.core.frame.DataFrame'>\n",
            "RangeIndex: 756 entries, 0 to 755\n",
            "Columns: 755 entries, id to class\n",
            "dtypes: float64(749), int64(6)\n",
            "memory usage: 4.4 MB\n"
          ]
        }
      ],
      "source": [
        "df.info()"
      ]
    },
    {
      "cell_type": "code",
      "execution_count": 5,
      "metadata": {
        "colab": {
          "base_uri": "https://localhost:8080/"
        },
        "id": "qRNYqrBKzhQZ",
        "outputId": "d274d118-0ba4-4b43-b58c-002721055f29"
      },
      "outputs": [
        {
          "output_type": "execute_result",
          "data": {
            "text/plain": [
              "1    564\n",
              "0    192\n",
              "Name: class, dtype: int64"
            ]
          },
          "metadata": {},
          "execution_count": 5
        }
      ],
      "source": [
        "df['class'].value_counts()"
      ]
    },
    {
      "cell_type": "code",
      "execution_count": 6,
      "metadata": {
        "colab": {
          "base_uri": "https://localhost:8080/"
        },
        "id": "X0YbwfVv09Ln",
        "outputId": "d9eb085c-d318-44c5-e9c0-2aa9936ee020"
      },
      "outputs": [
        {
          "output_type": "stream",
          "name": "stderr",
          "text": [
            "<ipython-input-6-13d32b8c9100>:1: DeprecationWarning: `np.int` is a deprecated alias for the builtin `int`. To silence this warning, use `int` by itself. Doing this will not modify any behavior and is safe. When replacing `np.int`, you may wish to use e.g. `np.int64` or `np.int32` to specify the precision. If you wish to review your current use, check the release note link for additional information.\n",
            "Deprecated in NumPy 1.20; for more details and guidance: https://numpy.org/devdocs/release/1.20.0-notes.html#deprecations\n",
            "  int_columns = df.select_dtypes(include=[np.int]).columns\n"
          ]
        }
      ],
      "source": [
        "int_columns = df.select_dtypes(include=[np.int]).columns"
      ]
    },
    {
      "cell_type": "code",
      "execution_count": 7,
      "metadata": {
        "colab": {
          "base_uri": "https://localhost:8080/"
        },
        "id": "sF6f4bEM-gxd",
        "outputId": "07f852a0-7f3c-434e-e33d-28f4f1bac745"
      },
      "outputs": [
        {
          "output_type": "execute_result",
          "data": {
            "text/plain": [
              "Index(['id', 'gender', 'numPulses', 'numPeriodsPulses',\n",
              "       'app_entropy_shannon_10_coef', 'class'],\n",
              "      dtype='object')"
            ]
          },
          "metadata": {},
          "execution_count": 7
        }
      ],
      "source": [
        "int_columns"
      ]
    },
    {
      "cell_type": "code",
      "execution_count": 8,
      "metadata": {
        "id": "TbABvP2T-jww"
      },
      "outputs": [],
      "source": [
        "X=df.drop(['class','id'],axis = 1)\n",
        "y = df['class']"
      ]
    },
    {
      "cell_type": "code",
      "execution_count": 8,
      "metadata": {
        "id": "qXtFqKH5OFdk"
      },
      "outputs": [],
      "source": []
    },
    {
      "cell_type": "code",
      "execution_count": 9,
      "metadata": {
        "id": "wRWn5TBA_X4-"
      },
      "outputs": [],
      "source": [
        "from imblearn.over_sampling import SMOTE\n",
        "smote = SMOTE(random_state = 42)\n",
        "X_smote, y_smote = smote.fit_resample(X, y)"
      ]
    },
    {
      "cell_type": "code",
      "execution_count": 10,
      "metadata": {
        "id": "ELouIla9_0TU"
      },
      "outputs": [],
      "source": [
        "from sklearn.model_selection import StratifiedShuffleSplit\n",
        "split = StratifiedShuffleSplit(n_splits=1, test_size=0.1, random_state=42)\n",
        "for train_index, test_index in split.split(X, y):\n",
        "  X_train= X.loc[train_index]\n",
        "  y_train = y.loc[train_index]\n",
        "  X_test = X.loc[test_index]\n",
        "  y_test =y.loc[test_index]"
      ]
    },
    {
      "cell_type": "code",
      "execution_count": 11,
      "metadata": {
        "id": "TA44Tj7PAlCN"
      },
      "outputs": [],
      "source": [
        "split = StratifiedShuffleSplit(n_splits=1, test_size=0.3, random_state=42)\n",
        "for train_index, test_index in split.split(X_smote, y_smote):\n",
        "  X_sm= X_smote.loc[train_index]\n",
        "  y_sm = y_smote.loc[train_index]\n",
        "  X_test_sm = X_smote.loc[test_index]\n",
        "  y_test_sm =y_smote.loc[test_index]"
      ]
    },
    {
      "cell_type": "code",
      "execution_count": 12,
      "metadata": {
        "id": "z5pKJE-GAn2o"
      },
      "outputs": [],
      "source": [
        "from sklearn.preprocessing import StandardScaler\n",
        "std = StandardScaler()"
      ]
    },
    {
      "cell_type": "code",
      "execution_count": 13,
      "metadata": {
        "id": "mg70h_dqA_H8"
      },
      "outputs": [],
      "source": [
        "X_sm_std = pd.DataFrame(std.fit_transform(X_sm),columns = X_train.columns)\n",
        "X_test_std_sm = pd.DataFrame(std.transform(X_test_sm),columns = X_test.columns)"
      ]
    },
    {
      "cell_type": "code",
      "execution_count": 14,
      "metadata": {
        "id": "-7gAa6xvBpcW"
      },
      "outputs": [],
      "source": [
        "std2=StandardScaler()\n",
        "X_std= pd.DataFrame(std2.fit_transform(X_train),columns = X_train.columns)\n",
        "X_test_std = pd.DataFrame(std2.transform(X_test),columns = X_test.columns)"
      ]
    },
    {
      "cell_type": "markdown",
      "metadata": {
        "id": "lys7MfoEB1QZ"
      },
      "source": [
        "# Decision Tree"
      ]
    },
    {
      "cell_type": "code",
      "execution_count": 18,
      "metadata": {
        "id": "-en5S9gdB3Vu"
      },
      "outputs": [],
      "source": [
        "from sklearn.tree import DecisionTreeClassifier\n",
        "from sklearn.model_selection import GridSearchCV\n",
        "from sklearn.model_selection import RepeatedKFold"
      ]
    },
    {
      "cell_type": "code",
      "execution_count": 19,
      "metadata": {
        "id": "rMv8QesqB9Ts"
      },
      "outputs": [],
      "source": [
        "cv = RepeatedKFold(n_splits=5, n_repeats=2, random_state=42)\n",
        "DF = DecisionTreeClassifier( random_state = 42)\n",
        "params_grid=[{'criterion' : ['gini','entropy'],'min_samples_leaf':[1,3,5],\n",
        "              'max_depth':[None,25,50,100]\n",
        "              ,'min_samples_split':[2,8,10],\n",
        "              'max_features':[600,650,None,]}]"
      ]
    },
    {
      "cell_type": "code",
      "execution_count": null,
      "metadata": {
        "id": "vZWtRB6AD8VL"
      },
      "outputs": [],
      "source": [
        "DF_GS =GridSearchCV (DF,params_grid,cv = cv,scoring =['f1','precision','recall','accuracy'],return_train_score = True,refit = 'accuracy')"
      ]
    },
    {
      "cell_type": "code",
      "execution_count": null,
      "metadata": {
        "colab": {
          "base_uri": "https://localhost:8080/"
        },
        "id": "M4AGxh_QEILm",
        "outputId": "f8cad66e-e396-4f75-80ab-855a4d90a57c"
      },
      "outputs": [
        {
          "data": {
            "text/plain": [
              "GridSearchCV(cv=RepeatedKFold(n_repeats=2, n_splits=5, random_state=42),\n",
              "             estimator=DecisionTreeClassifier(random_state=42),\n",
              "             param_grid=[{'criterion': ['gini', 'entropy'],\n",
              "                          'max_depth': [None, 25, 50, 100],\n",
              "                          'max_features': [600, 650, None],\n",
              "                          'min_samples_leaf': [1, 3, 5],\n",
              "                          'min_samples_split': [2, 8, 10]}],\n",
              "             refit='accuracy', return_train_score=True,\n",
              "             scoring=['f1', 'precision', 'recall', 'accuracy'])"
            ]
          },
          "execution_count": 59,
          "metadata": {},
          "output_type": "execute_result"
        }
      ],
      "source": [
        "DF_GS.fit(X_train,y_train)"
      ]
    },
    {
      "cell_type": "code",
      "execution_count": null,
      "metadata": {
        "colab": {
          "base_uri": "https://localhost:8080/"
        },
        "id": "jg55pLgeGkkE",
        "outputId": "e669e9b2-153d-4e9d-b992-3cb66e18f98d"
      },
      "outputs": [
        {
          "data": {
            "text/plain": [
              "0.8272058823529411"
            ]
          },
          "execution_count": 60,
          "metadata": {},
          "output_type": "execute_result"
        }
      ],
      "source": [
        "DF_GS.best_score_"
      ]
    },
    {
      "cell_type": "code",
      "execution_count": null,
      "metadata": {
        "colab": {
          "base_uri": "https://localhost:8080/"
        },
        "id": "7Yru4UjNTcdy",
        "outputId": "f5bfd460-4e04-49df-f0e0-722805fac503"
      },
      "outputs": [
        {
          "data": {
            "text/plain": [
              "{'criterion': 'entropy',\n",
              " 'max_depth': None,\n",
              " 'max_features': 600,\n",
              " 'min_samples_leaf': 1,\n",
              " 'min_samples_split': 8}"
            ]
          },
          "execution_count": 61,
          "metadata": {},
          "output_type": "execute_result"
        }
      ],
      "source": [
        "DF_GS.best_params_"
      ]
    },
    {
      "cell_type": "code",
      "execution_count": null,
      "metadata": {
        "id": "JtYiHAY_ThSn"
      },
      "outputs": [],
      "source": [
        "DF2 = DecisionTreeClassifier(random_state = 42)\n",
        "DF2_GS =GridSearchCV (DF2,params_grid,cv = cv,scoring =['f1','precision','recall','accuracy'],return_train_score = True,refit = 'accuracy')"
      ]
    },
    {
      "cell_type": "code",
      "execution_count": null,
      "metadata": {
        "colab": {
          "base_uri": "https://localhost:8080/"
        },
        "id": "soSfXuwydiiQ",
        "outputId": "f315625b-7b1e-4cbd-f67a-3092190e723a"
      },
      "outputs": [
        {
          "data": {
            "text/plain": [
              "GridSearchCV(cv=RepeatedKFold(n_repeats=2, n_splits=5, random_state=42),\n",
              "             estimator=DecisionTreeClassifier(random_state=42),\n",
              "             param_grid=[{'criterion': ['gini', 'entropy'],\n",
              "                          'max_depth': [None, 25, 50, 100],\n",
              "                          'max_features': [600, 650, None],\n",
              "                          'min_samples_leaf': [1, 3, 5],\n",
              "                          'min_samples_split': [2, 8, 10]}],\n",
              "             refit='accuracy', return_train_score=True,\n",
              "             scoring=['f1', 'precision', 'recall', 'accuracy'])"
            ]
          },
          "execution_count": 63,
          "metadata": {},
          "output_type": "execute_result"
        }
      ],
      "source": [
        "DF2_GS.fit(X_smote,y_smote)"
      ]
    },
    {
      "cell_type": "code",
      "execution_count": null,
      "metadata": {
        "colab": {
          "base_uri": "https://localhost:8080/"
        },
        "id": "BMpf7n4KdinQ",
        "outputId": "65789cd1-ed08-4568-d548-6640f3467b4b"
      },
      "outputs": [
        {
          "data": {
            "text/plain": [
              "{'criterion': 'entropy',\n",
              " 'max_depth': None,\n",
              " 'max_features': None,\n",
              " 'min_samples_leaf': 3,\n",
              " 'min_samples_split': 2}"
            ]
          },
          "execution_count": 64,
          "metadata": {},
          "output_type": "execute_result"
        }
      ],
      "source": [
        "DF2_GS.best_params_"
      ]
    },
    {
      "cell_type": "code",
      "execution_count": null,
      "metadata": {
        "colab": {
          "base_uri": "https://localhost:8080/"
        },
        "id": "fxLcR2pzfmE4",
        "outputId": "bf9df4d3-e813-4782-85a0-d8e94c16c351"
      },
      "outputs": [
        {
          "data": {
            "text/plain": [
              "0.8710245821042282"
            ]
          },
          "execution_count": 65,
          "metadata": {},
          "output_type": "execute_result"
        }
      ],
      "source": [
        "DF2_GS.best_score_"
      ]
    },
    {
      "cell_type": "code",
      "execution_count": null,
      "metadata": {
        "colab": {
          "base_uri": "https://localhost:8080/"
        },
        "id": "b04GgKrcyj1m",
        "outputId": "ef777785-ac39-434b-f15f-f67b8ad8311d"
      },
      "outputs": [
        {
          "name": "stdout",
          "output_type": "stream",
          "text": [
            "mean_test_accuracy\n",
            "0.8710245821042282\n",
            "mean_test_recall\n",
            "0.8625971297742453\n",
            "mean_test_f1\n",
            "0.870519749450013\n",
            "mean_test_precision\n",
            "0.8792659800790874\n"
          ]
        }
      ],
      "source": [
        "scores = ['mean_test_accuracy','mean_test_recall','mean_test_f1','mean_test_precision']\n",
        "for i in scores:\n",
        "  print(i)\n",
        "  print(DF2_GS.cv_results_[i][DF2_GS.best_index_])"
      ]
    },
    {
      "cell_type": "code",
      "execution_count": null,
      "metadata": {
        "colab": {
          "base_uri": "https://localhost:8080/"
        },
        "id": "0QW-2mx1zVon",
        "outputId": "96cbbcc6-14a2-4697-fb81-773134e69549"
      },
      "outputs": [
        {
          "name": "stdout",
          "output_type": "stream",
          "text": [
            "mean_test_accuracy\n",
            "0.8088235294117647\n",
            "mean_test_recall\n",
            "0.8776029390545048\n",
            "mean_test_f1\n",
            "0.8719855755360383\n",
            "mean_test_precision\n",
            "0.868554803744708\n"
          ]
        }
      ],
      "source": [
        "scores = ['mean_test_accuracy','mean_test_recall','mean_test_f1','mean_test_precision']\n",
        "for i in scores:\n",
        "  print(i)\n",
        "  print(DF_GS.cv_results_[i][DF2_GS.best_index_])"
      ]
    },
    {
      "cell_type": "code",
      "execution_count": 34,
      "metadata": {
        "id": "dIkA-eF10INF"
      },
      "outputs": [],
      "source": [
        "from sklearn.metrics import  ConfusionMatrixDisplay\n",
        "import matplotlib.pyplot as plt"
      ]
    },
    {
      "cell_type": "code",
      "execution_count": 57,
      "metadata": {
        "colab": {
          "base_uri": "https://localhost:8080/",
          "height": 295
        },
        "id": "dAtMizuR5TZw",
        "outputId": "f42ee590-117d-47df-87c9-433dcd6ed332"
      },
      "outputs": [
        {
          "output_type": "display_data",
          "data": {
            "text/plain": [
              "<Figure size 432x288 with 2 Axes>"
            ],
            "image/png": "[encoded data removed]"
          },
          "metadata": {
            "needs_background": "light"
          }
        }
      ],
      "source": [
        "ConfusionMatrixDisplay.from_predictions(y_test,DF2_GS.best_estimator_.predict(X_test))\n",
        "plt.title(\"Decision Tree\")\n",
        "plt.show()"
      ]
    },
    {
      "cell_type": "code",
      "execution_count": 51,
      "metadata": {
        "colab": {
          "base_uri": "https://localhost:8080/",
          "height": 295
        },
        "id": "ptUs2W5G5Tlk",
        "outputId": "12a94871-3fe9-4540-92c6-b18cfea685ad"
      },
      "outputs": [
        {
          "output_type": "display_data",
          "data": {
            "text/plain": [
              "<Figure size 432x288 with 2 Axes>"
            ],
            "image/png": "[encoded data removed]"
          },
          "metadata": {
            "needs_background": "light"
          }
        }
      ],
      "source": [
        "ConfusionMatrixDisplay.from_predictions(y_test_sm,DF2_GS.best_estimator_.predict(X_test_sm))\n",
        "plt.title(\"Decision Tree\")\n",
        "plt.show()"
      ]
    },
    {
      "cell_type": "code",
      "source": [
        "y_predicted =DF_GS.best_estimator_.predict(X_test)\n",
        "print('accuracy:')\n",
        "print(accuracy_score(y_test,y_predicted))\n",
        "print('precision')\n",
        "print(precision_score(y_test,y_predicted))\n",
        "print('recall')\n",
        "print(recall_score(y_test,y_predicted))\n",
        "print('f')\n",
        "print(f1_score(y_test,y_predicted))"
      ],
      "metadata": {
        "colab": {
          "base_uri": "https://localhost:8080/"
        },
        "id": "3rI8wlfURGY_",
        "outputId": "0eadb49c-fb57-4a32-ccdc-a1d808f7dc52"
      },
      "execution_count": 58,
      "outputs": [
        {
          "output_type": "stream",
          "name": "stdout",
          "text": [
            "accuracy:\n",
            "0.8026315789473685\n",
            "precision\n",
            "0.8888888888888888\n",
            "recall\n",
            "0.8421052631578947\n",
            "f\n",
            "0.8648648648648649\n"
          ]
        }
      ]
    },
    {
      "cell_type": "code",
      "source": [
        "y_predicted =DF2_GS.best_estimator_.predict(X_test)\n",
        "print('accuracy:')\n",
        "print(accuracy_score(y_test,y_predicted))\n",
        "print('precision')\n",
        "print(precision_score(y_test,y_predicted))\n",
        "print('recall')\n",
        "print(recall_score(y_test,y_predicted))\n",
        "print('f')\n",
        "print(f1_score(y_test,y_predicted))"
      ],
      "metadata": {
        "colab": {
          "base_uri": "https://localhost:8080/"
        },
        "id": "LPpSBgAkRJxh",
        "outputId": "aee9595e-4493-4013-b97e-8dcfc42b0534"
      },
      "execution_count": 60,
      "outputs": [
        {
          "output_type": "stream",
          "name": "stdout",
          "text": [
            "accuracy:\n",
            "0.9736842105263158\n",
            "precision\n",
            "0.9824561403508771\n",
            "recall\n",
            "0.9824561403508771\n",
            "f\n",
            "0.9824561403508771\n"
          ]
        }
      ]
    },
    {
      "cell_type": "markdown",
      "metadata": {
        "id": "bEK-n_tl0NOJ"
      },
      "source": [
        "# Random forest \n"
      ]
    },
    {
      "cell_type": "code",
      "execution_count": 55,
      "metadata": {
        "id": "f2pdX0Vh0Pyl"
      },
      "outputs": [],
      "source": [
        "from sklearn.ensemble import RandomForestClassifier\n",
        "RF = RandomForestClassifier(random_state=1,n_estimators = 10)\n",
        "params_grid=[{'criterion':['gini','entropy'],'min_samples_leaf':[1,10,20],\n",
        "              'max_depth':[None,60,70]\n",
        "              ,'min_samples_split':[2,8,10,12],\n",
        "              'max_features':[650,660,675,None,]}]"
      ]
    },
    {
      "cell_type": "code",
      "execution_count": null,
      "metadata": {
        "id": "-5Fi86Qo0nSF"
      },
      "outputs": [],
      "source": [
        "RF_GS =GridSearchCV (RF,params_grid,cv = cv,scoring =['accuracy','precision','recall','f1'],refit='accuracy')"
      ]
    },
    {
      "cell_type": "code",
      "execution_count": null,
      "metadata": {
        "colab": {
          "background_save": true
        },
        "id": "PhzRhQ4P0wFR",
        "outputId": "061e3cdf-f7c5-4ace-bc9a-5c97b1ef963c"
      },
      "outputs": [
        {
          "data": {
            "text/plain": [
              "GridSearchCV(cv=RepeatedKFold(n_repeats=2, n_splits=5, random_state=42),\n",
              "             estimator=RandomForestClassifier(n_estimators=10, random_state=1),\n",
              "             param_grid=[{'criterion': ['gini', 'entropy'],\n",
              "                          'max_depth': [None, 60, 70],\n",
              "                          'max_features': [650, 660, 675, None],\n",
              "                          'min_samples_leaf': [1, 10, 20],\n",
              "                          'min_samples_split': [2, 8, 10, 12]}],\n",
              "             refit='accuracy',\n",
              "             scoring=['accuracy', 'precision', 'recall', 'f1'])"
            ]
          },
          "execution_count": 79,
          "metadata": {},
          "output_type": "execute_result"
        }
      ],
      "source": [
        "RF_GS.fit(X_train,y_train)"
      ]
    },
    {
      "cell_type": "code",
      "execution_count": null,
      "metadata": {
        "colab": {
          "background_save": true
        },
        "id": "pITrWz4a02JQ",
        "outputId": "136a1fb8-2fcc-460e-c232-3096ba279b5b"
      },
      "outputs": [
        {
          "data": {
            "text/plain": [
              "0.8661764705882353"
            ]
          },
          "execution_count": 80,
          "metadata": {},
          "output_type": "execute_result"
        }
      ],
      "source": [
        "RF_GS.best_score_"
      ]
    },
    {
      "cell_type": "code",
      "execution_count": null,
      "metadata": {
        "colab": {
          "background_save": true
        },
        "id": "j6SdSjRN035O",
        "outputId": "25f85a61-2e4e-4566-9032-8626dbede213"
      },
      "outputs": [
        {
          "data": {
            "text/plain": [
              "{'criterion': 'entropy',\n",
              " 'max_depth': None,\n",
              " 'max_features': None,\n",
              " 'min_samples_leaf': 1,\n",
              " 'min_samples_split': 8}"
            ]
          },
          "execution_count": 81,
          "metadata": {},
          "output_type": "execute_result"
        }
      ],
      "source": [
        "RF_GS.best_params_"
      ]
    },
    {
      "cell_type": "code",
      "execution_count": null,
      "metadata": {
        "colab": {
          "background_save": true
        },
        "id": "bCOXz05k08BY"
      },
      "outputs": [],
      "source": [
        "RF2 = RandomForestClassifier(random_state=42,n_estimators = 10)\n",
        "RF2_GS =GridSearchCV (RF,params_grid,cv = cv,scoring =['accuracy','precision','recall','f1'],refit='accuracy')"
      ]
    },
    {
      "cell_type": "code",
      "execution_count": null,
      "metadata": {
        "colab": {
          "background_save": true
        },
        "id": "Zq92W1mtQi8k",
        "outputId": "3d1630c8-37a1-4439-8776-c403801af144"
      },
      "outputs": [
        {
          "data": {
            "text/plain": [
              "GridSearchCV(cv=RepeatedKFold(n_repeats=2, n_splits=5, random_state=42),\n",
              "             estimator=RandomForestClassifier(n_estimators=10, random_state=1),\n",
              "             param_grid=[{'criterion': ['gini', 'entropy'],\n",
              "                          'max_depth': [None, 60, 70],\n",
              "                          'max_features': [650, 660, 675, None],\n",
              "                          'min_samples_leaf': [1, 10, 20],\n",
              "                          'min_samples_split': [2, 8, 10, 12]}],\n",
              "             refit='accuracy',\n",
              "             scoring=['accuracy', 'precision', 'recall', 'f1'])"
            ]
          },
          "execution_count": 83,
          "metadata": {},
          "output_type": "execute_result"
        }
      ],
      "source": [
        "RF2_GS.fit(X_smote,y_smote)"
      ]
    },
    {
      "cell_type": "code",
      "execution_count": null,
      "metadata": {
        "colab": {
          "background_save": true
        },
        "id": "UiNVH26jQnlT",
        "outputId": "a9496b0a-f2cc-4a76-f34d-a4b00626e39d"
      },
      "outputs": [
        {
          "data": {
            "text/plain": [
              "0.9211012782694199"
            ]
          },
          "execution_count": 84,
          "metadata": {},
          "output_type": "execute_result"
        }
      ],
      "source": [
        "RF2_GS.best_score_"
      ]
    },
    {
      "cell_type": "code",
      "execution_count": null,
      "metadata": {
        "colab": {
          "background_save": true
        },
        "id": "nLl9F41y3XhT",
        "outputId": "a6275d07-9585-4d8e-f80f-bec07c025cd7"
      },
      "outputs": [
        {
          "data": {
            "text/plain": [
              "{'criterion': 'entropy',\n",
              " 'max_depth': None,\n",
              " 'max_features': 650,\n",
              " 'min_samples_leaf': 1,\n",
              " 'min_samples_split': 8}"
            ]
          },
          "execution_count": 85,
          "metadata": {},
          "output_type": "execute_result"
        }
      ],
      "source": [
        "RF2_GS.best_params_"
      ]
    },
    {
      "cell_type": "code",
      "execution_count": null,
      "metadata": {
        "colab": {
          "background_save": true
        },
        "id": "Tv4SYY6B3mv6",
        "outputId": "9947bb96-1ffd-45d6-81c9-f32b6b88daa5"
      },
      "outputs": [
        {
          "name": "stdout",
          "output_type": "stream",
          "text": [
            "mean_test_accuracy\n",
            "0.9211012782694199\n",
            "mean_test_recall\n",
            "0.890366688657466\n",
            "mean_test_f1\n",
            "0.9186635116887523\n",
            "mean_test_precision\n",
            "0.9490656344059163\n"
          ]
        }
      ],
      "source": [
        "for i in scores:\n",
        "  print(i)\n",
        "  print(RF2_GS.cv_results_[i][RF2_GS.best_index_])"
      ]
    },
    {
      "cell_type": "code",
      "execution_count": null,
      "metadata": {
        "colab": {
          "background_save": true
        },
        "id": "oIA0N2KaBb91",
        "outputId": "ea76f7e7-1d0c-49b0-cfe5-ba3ab97410fb"
      },
      "outputs": [
        {
          "name": "stdout",
          "output_type": "stream",
          "text": [
            "mean_test_accuracy\n",
            "0.9211012782694199\n",
            "mean_test_recall\n",
            "0.890366688657466\n",
            "mean_test_f1\n",
            "0.9186635116887523\n",
            "mean_test_precision\n",
            "0.9490656344059163\n"
          ]
        }
      ],
      "source": [
        "for i in scores:\n",
        "  print(i)\n",
        "  print(RF2_GS.cv_results_[i][RF2_GS.best_index_])"
      ]
    },
    {
      "cell_type": "code",
      "execution_count": null,
      "metadata": {
        "colab": {
          "background_save": true
        },
        "id": "PFguSgntBcAg",
        "outputId": "62c61c38-3694-4dc3-d719-cb9482c88159"
      },
      "outputs": [
        {
          "data": {
            "image/png": "[encoded data removed]",
            "text/plain": [
              "<Figure size 432x288 with 2 Axes>"
            ]
          },
          "metadata": {},
          "output_type": "display_data"
        }
      ],
      "source": [
        "ConfusionMatrixDisplay.from_predictions(y_test,RF2_GS.best_estimator_.predict(X_test))\n",
        "plt.title(\"Random Forest\")\n",
        "plt.show()"
      ]
    },
    {
      "cell_type": "code",
      "execution_count": 63,
      "metadata": {
        "colab": {
          "base_uri": "https://localhost:8080/",
          "height": 295
        },
        "id": "KbZXgFM9CMKd",
        "outputId": "2645e681-9ec3-4d19-b404-1c97c4f6af00"
      },
      "outputs": [
        {
          "output_type": "display_data",
          "data": {
            "text/plain": [
              "<Figure size 432x288 with 2 Axes>"
            ],
            "image/png": "[encoded data removed]"
          },
          "metadata": {
            "needs_background": "light"
          }
        }
      ],
      "source": [
        "ConfusionMatrixDisplay.from_predictions(y_test,RF_GS.best_estimator_.predict(X_test))\n",
        "plt.title(\"Random Forest\")\n",
        "plt.show()"
      ]
    },
    {
      "cell_type": "code",
      "execution_count": 64,
      "metadata": {
        "id": "Wmc-dlbYCSGs",
        "colab": {
          "base_uri": "https://localhost:8080/"
        },
        "outputId": "f9e87476-bddf-4acc-8347-89c3b67f7956"
      },
      "outputs": [
        {
          "output_type": "stream",
          "name": "stdout",
          "text": [
            "accuracy:\n",
            "0.868421052631579\n",
            "precision\n",
            "0.8983050847457628\n",
            "recall\n",
            "0.9298245614035088\n",
            "f\n",
            "0.9137931034482759\n"
          ]
        }
      ],
      "source": [
        "y_predicted =RF_GS.best_estimator_.predict(X_test)\n",
        "print('accuracy:')\n",
        "print(accuracy_score(y_test,y_predicted))\n",
        "print('precision')\n",
        "print(precision_score(y_test,y_predicted))\n",
        "print('recall')\n",
        "print(recall_score(y_test,y_predicted))\n",
        "print('f')\n",
        "print(f1_score(y_test,y_predicted))"
      ]
    },
    {
      "cell_type": "code",
      "source": [
        "y_predicted =RF2_GS.best_estimator_.predict(X_test)\n",
        "print('accuracy:')\n",
        "print(accuracy_score(y_test,y_predicted))\n",
        "print('precision')\n",
        "print(precision_score(y_test,y_predicted))\n",
        "print('recall')\n",
        "print(recall_score(y_test,y_predicted))\n",
        "print('f')\n",
        "print(f1_score(y_test,y_predicted))"
      ],
      "metadata": {
        "colab": {
          "base_uri": "https://localhost:8080/"
        },
        "id": "mt7gGM9dTelx",
        "outputId": "fea39224-1dbe-4ce3-a67c-64f6579cf0c2"
      },
      "execution_count": 66,
      "outputs": [
        {
          "output_type": "stream",
          "name": "stdout",
          "text": [
            "accuracy:\n",
            "1.0\n",
            "precision\n",
            "1.0\n",
            "recall\n",
            "1.0\n",
            "f\n",
            "1.0\n"
          ]
        }
      ]
    },
    {
      "cell_type": "markdown",
      "metadata": {
        "id": "GMHGljHMYqY6"
      },
      "source": [
        "# MLP\n"
      ]
    },
    {
      "cell_type": "code",
      "execution_count": 26,
      "metadata": {
        "id": "QaBuBuByYsnq"
      },
      "outputs": [],
      "source": [
        "from sklearn.neural_network import MLPClassifier\n",
        "mlp = MLPClassifier(batch_size=32,learning_rate='invscaling',learning_rate_init=0.01,max_iter = 1000)"
      ]
    },
    {
      "cell_type": "code",
      "execution_count": 27,
      "metadata": {
        "id": "JFp9k6pvZoRA"
      },
      "outputs": [],
      "source": [
        "params_grid =[{'hidden_layer_sizes':[(100,),(40,50,),(20,30,),(40,)],\n",
        "               'activation':['relu','tanh'],\n",
        "               'solver':['sgd','adam'],\n",
        "               'alpha':[0.0001,0.001,0.01], \n",
        "}]"
      ]
    },
    {
      "cell_type": "code",
      "execution_count": 28,
      "metadata": {
        "id": "v53El9SJbMg-"
      },
      "outputs": [],
      "source": [
        "mlp_GS =GridSearchCV (mlp,params_grid,cv = cv,scoring =['accuracy','precision','recall','f1'],refit='accuracy')"
      ]
    },
    {
      "cell_type": "code",
      "execution_count": null,
      "metadata": {
        "id": "Pob92U5JbT0W"
      },
      "outputs": [],
      "source": [
        "mlp_GS.fit(X_sm_std,y_sm)"
      ]
    },
    {
      "cell_type": "code",
      "execution_count": 30,
      "metadata": {
        "id": "42IkvkF5bfKr",
        "colab": {
          "base_uri": "https://localhost:8080/"
        },
        "outputId": "7c67116b-cc35-4ac5-cd54-d664c9104de3"
      },
      "outputs": [
        {
          "output_type": "execute_result",
          "data": {
            "text/plain": [
              "0.9417116826574216"
            ]
          },
          "metadata": {},
          "execution_count": 30
        }
      ],
      "source": [
        "mlp_GS.best_score_"
      ]
    },
    {
      "cell_type": "code",
      "execution_count": 31,
      "metadata": {
        "id": "MJEZajbur6JN",
        "colab": {
          "base_uri": "https://localhost:8080/"
        },
        "outputId": "c935df41-6bb2-456b-ae2d-07fcdcae440d"
      },
      "outputs": [
        {
          "output_type": "execute_result",
          "data": {
            "text/plain": [
              "{'activation': 'relu',\n",
              " 'alpha': 0.0001,\n",
              " 'hidden_layer_sizes': (40, 50),\n",
              " 'solver': 'adam'}"
            ]
          },
          "metadata": {},
          "execution_count": 31
        }
      ],
      "source": [
        "mlp_GS.best_params_"
      ]
    },
    {
      "cell_type": "code",
      "execution_count": 32,
      "metadata": {
        "id": "AHVL10HVr8ea",
        "colab": {
          "base_uri": "https://localhost:8080/"
        },
        "outputId": "de728902-fe0a-4b36-90b7-bd8afbc92cbc"
      },
      "outputs": [
        {
          "output_type": "stream",
          "name": "stdout",
          "text": [
            "mean_test_accuracy\n",
            "0.9417116826574216\n",
            "mean_test_recall\n",
            "0.9266865129467051\n",
            "mean_test_f1\n",
            "0.9398212546780396\n",
            "mean_test_precision\n",
            "0.9540795497826648\n"
          ]
        }
      ],
      "source": [
        "scores = ['mean_test_accuracy','mean_test_recall','mean_test_f1','mean_test_precision']\n",
        "for i in scores:\n",
        "  print(i)\n",
        "  print(mlp_GS.cv_results_[i][mlp_GS.best_index_])"
      ]
    },
    {
      "cell_type": "code",
      "execution_count": 35,
      "metadata": {
        "id": "0FE-qL3JsHhU",
        "colab": {
          "base_uri": "https://localhost:8080/",
          "height": 295
        },
        "outputId": "923a37de-6125-43a7-d875-62388f23712b"
      },
      "outputs": [
        {
          "output_type": "display_data",
          "data": {
            "text/plain": [
              "<Figure size 432x288 with 2 Axes>"
            ],
            "image/png": "[encoded data removed]"
          },
          "metadata": {
            "needs_background": "light"
          }
        }
      ],
      "source": [
        "ConfusionMatrixDisplay.from_predictions(y_test,mlp_GS.best_estimator_.predict(X_test_std))\n",
        "plt.title(\"MLP\")\n",
        "plt.show()"
      ]
    },
    {
      "cell_type": "code",
      "source": [
        "y_predicted = mlp_GS.best_estimator_.predict(X_test_std)\n",
        "print('accuracy:')\n",
        "print(accuracy_score(y_test,y_predicted))\n",
        "print('precision')\n",
        "print(precision_score(y_test,y_predicted))\n",
        "print('recall')\n",
        "print(recall_score(y_test,y_predicted))\n",
        "print('f')\n",
        "print(f1_score(y_test,y_predicted))"
      ],
      "metadata": {
        "colab": {
          "base_uri": "https://localhost:8080/"
        },
        "id": "dSU7MWDK5zM7",
        "outputId": "dd43be52-882e-4bdb-988e-d345c124fcc1"
      },
      "execution_count": 36,
      "outputs": [
        {
          "output_type": "stream",
          "name": "stdout",
          "text": [
            "accuracy:\n",
            "0.9342105263157895\n",
            "precision\n",
            "1.0\n",
            "recall\n",
            "0.9122807017543859\n",
            "f\n",
            "0.9541284403669724\n"
          ]
        }
      ]
    },
    {
      "cell_type": "code",
      "execution_count": 37,
      "metadata": {
        "id": "WvvqCPMDsfhJ"
      },
      "outputs": [],
      "source": [
        "params_grid =[{'hidden_layer_sizes':[(80,),(30,40,),(10,20,),(40,)],\n",
        "               'activation':['relu','tanh'],\n",
        "               'solver':['sgd','adam'],\n",
        "               'alpha':[0.0001,0.001,0.01], \n",
        "}]\n",
        "mlp2 = MLPClassifier(batch_size=32,learning_rate='invscaling',learning_rate_init=0.01,max_iter = 1000)\n",
        "mlp2_GS =GridSearchCV (mlp2,params_grid,cv = cv,scoring =['accuracy','precision','recall','f1'],refit='accuracy')"
      ]
    },
    {
      "cell_type": "code",
      "source": [
        "mlp2_GS.fit(X_std,y_train)"
      ],
      "metadata": {
        "colab": {
          "base_uri": "https://localhost:8080/"
        },
        "id": "wSlpCmv2mbGc",
        "outputId": "86bdac21-3d42-4ac8-ed10-2feee2b23a5c"
      },
      "execution_count": 38,
      "outputs": [
        {
          "output_type": "stream",
          "name": "stderr",
          "text": [
            "/usr/local/lib/python3.8/dist-packages/sklearn/neural_network/_multilayer_perceptron.py:692: ConvergenceWarning: Stochastic Optimizer: Maximum iterations (1000) reached and the optimization hasn't converged yet.\n",
            "  warnings.warn(\n",
            "/usr/local/lib/python3.8/dist-packages/sklearn/neural_network/_multilayer_perceptron.py:692: ConvergenceWarning: Stochastic Optimizer: Maximum iterations (1000) reached and the optimization hasn't converged yet.\n",
            "  warnings.warn(\n",
            "/usr/local/lib/python3.8/dist-packages/sklearn/neural_network/_multilayer_perceptron.py:692: ConvergenceWarning: Stochastic Optimizer: Maximum iterations (1000) reached and the optimization hasn't converged yet.\n",
            "  warnings.warn(\n"
          ]
        },
        {
          "output_type": "execute_result",
          "data": {
            "text/plain": [
              "GridSearchCV(cv=RepeatedKFold(n_repeats=2, n_splits=5, random_state=42),\n",
              "             estimator=MLPClassifier(batch_size=32, learning_rate='invscaling',\n",
              "                                     learning_rate_init=0.01, max_iter=1000),\n",
              "             param_grid=[{'activation': ['relu', 'tanh'],\n",
              "                          'alpha': [0.0001, 0.001, 0.01],\n",
              "                          'hidden_layer_sizes': [(80,), (30, 40), (10, 20),\n",
              "                                                 (40,)],\n",
              "                          'solver': ['sgd', 'adam']}],\n",
              "             refit='accuracy',\n",
              "             scoring=['accuracy', 'precision', 'recall', 'f1'])"
            ]
          },
          "metadata": {},
          "execution_count": 38
        }
      ]
    },
    {
      "cell_type": "code",
      "source": [
        "mlp2_GS.best_score_"
      ],
      "metadata": {
        "colab": {
          "base_uri": "https://localhost:8080/"
        },
        "id": "VmCuSDtamuWy",
        "outputId": "d48d3e14-2321-40f1-f779-a171947a328a"
      },
      "execution_count": 39,
      "outputs": [
        {
          "data": {
            "text/plain": [
              "0.8801470588235294"
            ]
          },
          "execution_count": 39,
          "metadata": {},
          "output_type": "execute_result"
        }
      ]
    },
    {
      "cell_type": "code",
      "source": [
        "mlp2_GS.best_params_"
      ],
      "metadata": {
        "colab": {
          "base_uri": "https://localhost:8080/"
        },
        "id": "jd4KOYN_m_FO",
        "outputId": "39ab4ad9-866c-4f49-9b7b-946e28fb233d"
      },
      "execution_count": 40,
      "outputs": [
        {
          "output_type": "execute_result",
          "data": {
            "text/plain": [
              "{'activation': 'relu',\n",
              " 'alpha': 0.0001,\n",
              " 'hidden_layer_sizes': (30, 40),\n",
              " 'solver': 'adam'}"
            ]
          },
          "metadata": {},
          "execution_count": 40
        }
      ]
    },
    {
      "cell_type": "code",
      "source": [
        "for i in scores:\n",
        "  print(i)\n",
        "  print(mlp2_GS.cv_results_[i][mlp2_GS.best_index_])"
      ],
      "metadata": {
        "colab": {
          "base_uri": "https://localhost:8080/"
        },
        "id": "UHjM7nTOq3ao",
        "outputId": "2acc4d01-05cd-4d6f-f7f3-741674f11439"
      },
      "execution_count": 41,
      "outputs": [
        {
          "output_type": "stream",
          "name": "stdout",
          "text": [
            "mean_test_accuracy\n",
            "0.8801470588235294\n",
            "mean_test_recall\n",
            "0.9302048744839059\n",
            "mean_test_f1\n",
            "0.9199776030131176\n",
            "mean_test_precision\n",
            "0.9109869638451233\n"
          ]
        }
      ]
    },
    {
      "cell_type": "code",
      "source": [
        "ConfusionMatrixDisplay.from_predictions(y_test,mlp2_GS.best_estimator_.predict(X_test_std))\n",
        "plt.title(\"MLP\")\n",
        "plt.show()"
      ],
      "metadata": {
        "colab": {
          "base_uri": "https://localhost:8080/",
          "height": 295
        },
        "id": "N4MeUhcCq3di",
        "outputId": "14721363-daa9-41e8-ebe1-f3142de5b5c6"
      },
      "execution_count": 42,
      "outputs": [
        {
          "output_type": "display_data",
          "data": {
            "text/plain": [
              "<Figure size 432x288 with 2 Axes>"
            ],
            "image/png": "[encoded data removed]"
          },
          "metadata": {
            "needs_background": "light"
          }
        }
      ]
    },
    {
      "cell_type": "code",
      "source": [
        "y_predicted = mlp2_GS.best_estimator_.predict(X_test_std)\n",
        "print('accuracy:')\n",
        "print(accuracy_score(y_test,y_predicted))\n",
        "print('precision')\n",
        "print(precision_score(y_test,y_predicted))\n",
        "print('recall')\n",
        "print(recall_score(y_test,y_predicted))\n",
        "print('f')\n",
        "print(f1_score(y_test,y_predicted))"
      ],
      "metadata": {
        "colab": {
          "base_uri": "https://localhost:8080/"
        },
        "id": "4GpFZbZGq3ge",
        "outputId": "5cd10dd5-2c09-4ab0-81ca-549715e12ca3"
      },
      "execution_count": 43,
      "outputs": [
        {
          "output_type": "stream",
          "name": "stdout",
          "text": [
            "accuracy:\n",
            "0.9078947368421053\n",
            "precision\n",
            "0.9310344827586207\n",
            "recall\n",
            "0.9473684210526315\n",
            "f\n",
            "0.9391304347826087\n"
          ]
        }
      ]
    },
    {
      "cell_type": "code",
      "source": [],
      "metadata": {
        "id": "cNAC47BVHIw9"
      },
      "execution_count": 44,
      "outputs": []
    }
  ],
  "metadata": {
    "colab": {
      "provenance": []
    },
    "kernelspec": {
      "display_name": "Python 3",
      "name": "python3"
    },
    "language_info": {
      "name": "python"
    }
  },
  "nbformat": 4,
  "nbformat_minor": 0
}