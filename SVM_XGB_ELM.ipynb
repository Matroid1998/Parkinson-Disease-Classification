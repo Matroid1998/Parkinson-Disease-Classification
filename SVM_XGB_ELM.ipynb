{
  "nbformat": 4,
  "nbformat_minor": 0,
  "metadata": {
    "colab": {
      "provenance": []
    },
    "kernelspec": {
      "name": "python3",
      "display_name": "Python 3"
    },
    "language_info": {
      "name": "python"
    }
  },
  "cells": [
    {
      "cell_type": "code",
      "execution_count": 31,
      "metadata": {
        "id": "voz29vlmlRsl"
      },
      "outputs": [],
      "source": [
        "import numpy as np\n",
        "import pandas as pd\n",
        "from sklearn.metrics import accuracy_score,precision_score,recall_score,f1_score\n"
      ]
    },
    {
      "cell_type": "code",
      "source": [
        "df = pd.read_csv('pd_speech_features.csv',header=1)"
      ],
      "metadata": {
        "id": "YEL3RIaYlTPg"
      },
      "execution_count": 32,
      "outputs": []
    },
    {
      "cell_type": "code",
      "source": [
        "X=df.drop(['class','id'],axis = 1)\n",
        "y = df['class']"
      ],
      "metadata": {
        "id": "p06XxL8elbap"
      },
      "execution_count": 33,
      "outputs": []
    },
    {
      "cell_type": "code",
      "source": [
        "from imblearn.over_sampling import SMOTE\n",
        "smote = SMOTE(random_state = 42)\n",
        "X_smote, y_smote = smote.fit_resample(X, y)"
      ],
      "metadata": {
        "id": "BJwEzeZGlbcn"
      },
      "execution_count": 34,
      "outputs": []
    },
    {
      "cell_type": "code",
      "source": [
        "from sklearn.model_selection import StratifiedShuffleSplit\n",
        "split = StratifiedShuffleSplit(n_splits=1, test_size=0.1, random_state=42)\n",
        "for train_index, test_index in split.split(X, y):\n",
        "  X_train= X.loc[train_index]\n",
        "  y_train = y.loc[train_index]\n",
        "  X_test = X.loc[test_index]\n",
        "  y_test =y.loc[test_index]"
      ],
      "metadata": {
        "id": "PwryOIO4lb2q"
      },
      "execution_count": 35,
      "outputs": []
    },
    {
      "cell_type": "code",
      "source": [
        "split = StratifiedShuffleSplit(n_splits=1, test_size=0.3, random_state=42)\n",
        "for train_index, test_index in split.split(X_smote, y_smote):\n",
        "  X_sm= X_smote.loc[train_index]\n",
        "  y_sm = y_smote.loc[train_index]\n",
        "  X_test_sm = X_smote.loc[test_index]\n",
        "  y_test_sm =y_smote.loc[test_index]"
      ],
      "metadata": {
        "id": "7iRWNRimwv7L"
      },
      "execution_count": 36,
      "outputs": []
    },
    {
      "cell_type": "code",
      "source": [
        "from sklearn.preprocessing import StandardScaler\n",
        "std = StandardScaler()\n",
        "X_sm_std = pd.DataFrame(std.fit_transform(X_sm),columns = X_train.columns)\n",
        "X_test_std_sm = pd.DataFrame(std.transform(X_test_sm),columns = X_test.columns)\n",
        "std2=StandardScaler()\n",
        "X_std= pd.DataFrame(std2.fit_transform(X_train),columns = X_train.columns)\n",
        "X_test_std = pd.DataFrame(std2.transform(X_test),columns = X_test.columns)"
      ],
      "metadata": {
        "id": "D7U8bpxLwv9x"
      },
      "execution_count": 37,
      "outputs": []
    },
    {
      "cell_type": "code",
      "source": [],
      "metadata": {
        "id": "fIa78gN9wwAE"
      },
      "execution_count": 37,
      "outputs": []
    },
    {
      "cell_type": "code",
      "source": [],
      "metadata": {
        "id": "2kAm42pCwwCV"
      },
      "execution_count": 37,
      "outputs": []
    },
    {
      "cell_type": "markdown",
      "source": [
        "# SVM"
      ],
      "metadata": {
        "id": "TL3BRjlblpo1"
      }
    },
    {
      "cell_type": "code",
      "source": [
        "from sklearn.model_selection import GridSearchCV\n",
        "from sklearn.model_selection import RepeatedKFold"
      ],
      "metadata": {
        "id": "HIscTfDElb4X"
      },
      "execution_count": 38,
      "outputs": []
    },
    {
      "cell_type": "code",
      "source": [
        "cv = RepeatedKFold(n_splits=5, n_repeats=3)\n"
      ],
      "metadata": {
        "id": "4elfsiW3lb7-"
      },
      "execution_count": 39,
      "outputs": []
    },
    {
      "cell_type": "code",
      "source": [
        "params_grid = [\n",
        "    {'kernel':['rbf'],'gamma':['scale',1,10,0.1,100],'C':[1,10,100],'decision_function_shape':['ovo','ovr']},\n",
        "    {'kernel':['poly'],'degree':[2,3,4],'C':[0.1,1,10,100,1000],'decision_function_shape':['ovo','ovr']}\n",
        "]"
      ],
      "metadata": {
        "id": "Ebq0ScA2lb96"
      },
      "execution_count": 40,
      "outputs": []
    },
    {
      "cell_type": "code",
      "source": [
        "from sklearn.svm import SVC\n",
        "svc = SVC(random_state=42)"
      ],
      "metadata": {
        "id": "RLCcsnkqlcBV"
      },
      "execution_count": 41,
      "outputs": []
    },
    {
      "cell_type": "code",
      "source": [
        "SVM_GS =GridSearchCV (svc,params_grid,cv = cv,scoring =['f1','precision','recall','accuracy'],return_train_score = True,refit = 'accuracy')"
      ],
      "metadata": {
        "id": "hamBx5CqlcDP"
      },
      "execution_count": 42,
      "outputs": []
    },
    {
      "cell_type": "code",
      "source": [
        "SVM_GS.fit(X_sm_std,y_sm)"
      ],
      "metadata": {
        "id": "B03xjmRClcG7"
      },
      "execution_count": null,
      "outputs": []
    },
    {
      "cell_type": "code",
      "source": [
        "SVM_GS.best_score_"
      ],
      "metadata": {
        "colab": {
          "base_uri": "https://localhost:8080/"
        },
        "id": "UoB-vt2PlcNI",
        "outputId": "75699fbc-02c5-48d2-c9a6-dfa608763b84"
      },
      "execution_count": 44,
      "outputs": [
        {
          "output_type": "execute_result",
          "data": {
            "text/plain": [
              "0.9362009191324681"
            ]
          },
          "metadata": {},
          "execution_count": 44
        }
      ]
    },
    {
      "cell_type": "code",
      "source": [
        "SVM_GS.best_params_"
      ],
      "metadata": {
        "colab": {
          "base_uri": "https://localhost:8080/"
        },
        "id": "8QpVYaOvnVWY",
        "outputId": "2047a08a-e79b-4321-af92-58b2219e6633"
      },
      "execution_count": 45,
      "outputs": [
        {
          "output_type": "execute_result",
          "data": {
            "text/plain": [
              "{'C': 10, 'decision_function_shape': 'ovo', 'gamma': 'scale', 'kernel': 'rbf'}"
            ]
          },
          "metadata": {},
          "execution_count": 45
        }
      ]
    },
    {
      "cell_type": "code",
      "source": [
        "from sklearn.metrics import  ConfusionMatrixDisplay\n",
        "import matplotlib.pyplot as plt"
      ],
      "metadata": {
        "id": "hg7j9BpunXEi"
      },
      "execution_count": 46,
      "outputs": []
    },
    {
      "cell_type": "code",
      "source": [
        "scores = ['mean_test_accuracy','mean_test_recall','mean_test_f1','mean_test_precision']\n",
        "for i in scores:\n",
        "  print(i)\n",
        "  print(SVM_GS.cv_results_[i][SVM_GS.best_index_])"
      ],
      "metadata": {
        "colab": {
          "base_uri": "https://localhost:8080/"
        },
        "id": "xBpMziAPsu4d",
        "outputId": "f8d8333d-c187-4221-8489-e8d6acfc433f"
      },
      "execution_count": 47,
      "outputs": [
        {
          "output_type": "stream",
          "name": "stdout",
          "text": [
            "mean_test_accuracy\n",
            "0.9362009191324681\n",
            "mean_test_recall\n",
            "0.9176579451209032\n",
            "mean_test_f1\n",
            "0.9342602701811759\n",
            "mean_test_precision\n",
            "0.9519882866549814\n"
          ]
        }
      ]
    },
    {
      "cell_type": "code",
      "source": [
        "ConfusionMatrixDisplay.from_predictions(y_test,SVM_GS.best_estimator_.predict(X_test_std))\n",
        "plt.title(\"svm\")\n",
        "plt.show()"
      ],
      "metadata": {
        "colab": {
          "base_uri": "https://localhost:8080/",
          "height": 295
        },
        "id": "J06Yf_5Dsyis",
        "outputId": "a0d7942e-093c-411b-9b05-5cac6d587944"
      },
      "execution_count": 48,
      "outputs": [
        {
          "output_type": "display_data",
          "data": {
            "text/plain": [
              "<Figure size 432x288 with 2 Axes>"
            ],
            "image/png": "[encoded data removed]"
          },
          "metadata": {
            "needs_background": "light"
          }
        }
      ]
    },
    {
      "cell_type": "code",
      "source": [
        "y_predicted = SVM_GS.best_estimator_.predict(X_test_std)\n",
        "print('accuracy:')\n",
        "print(accuracy_score(y_test,y_predicted))\n",
        "print('precision')\n",
        "print(precision_score(y_test,y_predicted))\n",
        "print('recall')\n",
        "print(recall_score(y_test,y_predicted))\n",
        "print('f')\n",
        "print(f1_score(y_test,y_predicted))"
      ],
      "metadata": {
        "colab": {
          "base_uri": "https://localhost:8080/"
        },
        "id": "V4JaEs_fyhyR",
        "outputId": "28091411-3944-4de7-a7ce-132656623b97"
      },
      "execution_count": 49,
      "outputs": [
        {
          "output_type": "stream",
          "name": "stdout",
          "text": [
            "accuracy:\n",
            "0.9078947368421053\n",
            "precision\n",
            "0.9464285714285714\n",
            "recall\n",
            "0.9298245614035088\n",
            "f\n",
            "0.9380530973451328\n"
          ]
        }
      ]
    },
    {
      "cell_type": "code",
      "source": [
        "svc2 = SVC(random_state=42)\n",
        "SVM2_GS =GridSearchCV (svc2,params_grid,cv = cv,scoring =['f1','precision','recall','accuracy'],return_train_score = True,refit = 'accuracy')"
      ],
      "metadata": {
        "id": "ukV6tSm4zNre"
      },
      "execution_count": 50,
      "outputs": []
    },
    {
      "cell_type": "code",
      "source": [
        "SVM2_GS.fit(X_std,y_train)"
      ],
      "metadata": {
        "colab": {
          "base_uri": "https://localhost:8080/"
        },
        "id": "5U4-ZtRtzksj",
        "outputId": "a9dbbbff-d5a5-457c-c011-9fa28ebd735a"
      },
      "execution_count": 51,
      "outputs": [
        {
          "output_type": "execute_result",
          "data": {
            "text/plain": [
              "GridSearchCV(cv=RepeatedKFold(n_repeats=3, n_splits=5, random_state=None),\n",
              "             estimator=SVC(random_state=42),\n",
              "             param_grid=[{'C': [1, 10, 100],\n",
              "                          'decision_function_shape': ['ovo', 'ovr'],\n",
              "                          'gamma': ['scale', 1, 10, 0.1, 100],\n",
              "                          'kernel': ['rbf']},\n",
              "                         {'C': [0.1, 1, 10, 100, 1000],\n",
              "                          'decision_function_shape': ['ovo', 'ovr'],\n",
              "                          'degree': [2, 3, 4], 'kernel': ['poly']}],\n",
              "             refit='accuracy', return_train_score=True,\n",
              "             scoring=['f1', 'precision', 'recall', 'accuracy'])"
            ]
          },
          "metadata": {},
          "execution_count": 51
        }
      ]
    },
    {
      "cell_type": "code",
      "source": [
        "SVM2_GS.best_score_"
      ],
      "metadata": {
        "colab": {
          "base_uri": "https://localhost:8080/"
        },
        "id": "4MVBYuv2zv36",
        "outputId": "7b573e3f-08a9-44ce-c8d8-ddcd566556df"
      },
      "execution_count": 52,
      "outputs": [
        {
          "output_type": "execute_result",
          "data": {
            "text/plain": [
              "0.8867647058823529"
            ]
          },
          "metadata": {},
          "execution_count": 52
        }
      ]
    },
    {
      "cell_type": "code",
      "source": [
        "SVM2_GS.best_params_"
      ],
      "metadata": {
        "colab": {
          "base_uri": "https://localhost:8080/"
        },
        "id": "mnVJN3gFzy-X",
        "outputId": "6074c447-5348-49a3-beb3-797b1f1c2d3c"
      },
      "execution_count": 53,
      "outputs": [
        {
          "output_type": "execute_result",
          "data": {
            "text/plain": [
              "{'C': 10, 'decision_function_shape': 'ovo', 'gamma': 'scale', 'kernel': 'rbf'}"
            ]
          },
          "metadata": {},
          "execution_count": 53
        }
      ]
    },
    {
      "cell_type": "code",
      "source": [
        "for i in scores:\n",
        "  print(i)\n",
        "  print(SVM2_GS.cv_results_[i][SVM2_GS.best_index_])"
      ],
      "metadata": {
        "colab": {
          "base_uri": "https://localhost:8080/"
        },
        "id": "jl2cbx5uz0wC",
        "outputId": "d28458d7-f9b6-47b0-b0c3-acb0a59e3433"
      },
      "execution_count": 54,
      "outputs": [
        {
          "output_type": "stream",
          "name": "stdout",
          "text": [
            "mean_test_accuracy\n",
            "0.8867647058823529\n",
            "mean_test_recall\n",
            "0.9640892039465516\n",
            "mean_test_f1\n",
            "0.9268792450601595\n",
            "mean_test_precision\n",
            "0.8927716267333171\n"
          ]
        }
      ]
    },
    {
      "cell_type": "code",
      "source": [
        "ConfusionMatrixDisplay.from_predictions(y_test,SVM2_GS.best_estimator_.predict(X_test_std))\n",
        "plt.title(\"svm\")\n",
        "plt.show()"
      ],
      "metadata": {
        "colab": {
          "base_uri": "https://localhost:8080/",
          "height": 295
        },
        "id": "OwnbLIo10AGk",
        "outputId": "46498ec6-e3b0-43ec-db8b-d709ab740bee"
      },
      "execution_count": 55,
      "outputs": [
        {
          "output_type": "display_data",
          "data": {
            "text/plain": [
              "<Figure size 432x288 with 2 Axes>"
            ],
            "image/png": "[encoded data removed]"
          },
          "metadata": {
            "needs_background": "light"
          }
        }
      ]
    },
    {
      "cell_type": "code",
      "source": [
        "from sklearn.metrics import accuracy_score,precision_score,recall_score,f1_score\n",
        "y_predicted = SVM2_GS.best_estimator_.predict(X_test_std)\n",
        "print('accuracy:')\n",
        "print(accuracy_score(y_test,y_predicted))\n",
        "print('precision')\n",
        "print(precision_score(y_test,y_predicted))\n",
        "print('recall')\n",
        "print(recall_score(y_test,y_predicted))\n",
        "print('f')\n",
        "print(f1_score(y_test,y_predicted))"
      ],
      "metadata": {
        "colab": {
          "base_uri": "https://localhost:8080/"
        },
        "id": "CWrpgXaP0DYC",
        "outputId": "67eaa248-d9f9-478a-e757-e415364f83ba"
      },
      "execution_count": 56,
      "outputs": [
        {
          "output_type": "stream",
          "name": "stdout",
          "text": [
            "accuracy:\n",
            "0.9078947368421053\n",
            "precision\n",
            "0.9032258064516129\n",
            "recall\n",
            "0.9824561403508771\n",
            "f\n",
            "0.9411764705882352\n"
          ]
        }
      ]
    },
    {
      "cell_type": "code",
      "source": [],
      "metadata": {
        "id": "10bkH8zc0RSe"
      },
      "execution_count": null,
      "outputs": []
    },
    {
      "cell_type": "markdown",
      "source": [
        "# XGBoost"
      ],
      "metadata": {
        "id": "33SXLnRd0R_o"
      }
    },
    {
      "cell_type": "code",
      "source": [
        "from xgboost.sklearn import XGBClassifier"
      ],
      "metadata": {
        "id": "vaZxvV9E0ZVk"
      },
      "execution_count": 48,
      "outputs": []
    },
    {
      "cell_type": "code",
      "source": [
        "xgb = XGBClassifier(n_estimators=100)"
      ],
      "metadata": {
        "id": "chpaBTmh3SUi"
      },
      "execution_count": 69,
      "outputs": []
    },
    {
      "cell_type": "code",
      "source": [
        "params_grid = {'max_depth':[4,5,6,7,8,10,12]}"
      ],
      "metadata": {
        "id": "CwFGMcV04Ctb"
      },
      "execution_count": 70,
      "outputs": []
    },
    {
      "cell_type": "code",
      "source": [
        "xgb_GS =GridSearchCV (xgb,params_grid,cv = cv,scoring =['f1','precision','recall','accuracy'],return_train_score = True,refit = 'accuracy')"
      ],
      "metadata": {
        "id": "kmwXJTXk5XAX"
      },
      "execution_count": 71,
      "outputs": []
    },
    {
      "cell_type": "code",
      "source": [
        "xgb_GS.fit(X_sm_std,y_sm)"
      ],
      "metadata": {
        "colab": {
          "base_uri": "https://localhost:8080/"
        },
        "id": "6ZM_Us-Y5f9V",
        "outputId": "980c7d8a-3b30-4678-a47b-0d983988b5e5"
      },
      "execution_count": 72,
      "outputs": [
        {
          "output_type": "execute_result",
          "data": {
            "text/plain": [
              "GridSearchCV(cv=RepeatedKFold(n_repeats=3, n_splits=5, random_state=None),\n",
              "             estimator=XGBClassifier(),\n",
              "             param_grid={'max_depth': [4, 5, 6, 7, 8, 10, 12]},\n",
              "             refit='accuracy', return_train_score=True,\n",
              "             scoring=['f1', 'precision', 'recall', 'accuracy'])"
            ]
          },
          "metadata": {},
          "execution_count": 72
        }
      ]
    },
    {
      "cell_type": "code",
      "source": [
        "xgb_GS.best_score_"
      ],
      "metadata": {
        "colab": {
          "base_uri": "https://localhost:8080/"
        },
        "id": "a_g8K4yb5klD",
        "outputId": "3895c9a5-df4c-42e9-810b-68b9ff8bc101"
      },
      "execution_count": 73,
      "outputs": [
        {
          "output_type": "execute_result",
          "data": {
            "text/plain": [
              "0.9281813539735011"
            ]
          },
          "metadata": {},
          "execution_count": 73
        }
      ]
    },
    {
      "cell_type": "code",
      "source": [
        "xgb_GS.best_params_"
      ],
      "metadata": {
        "colab": {
          "base_uri": "https://localhost:8080/"
        },
        "id": "wopLWkbc6UwK",
        "outputId": "ef1f2e48-f057-493d-9d60-5088876f399b"
      },
      "execution_count": 74,
      "outputs": [
        {
          "output_type": "execute_result",
          "data": {
            "text/plain": [
              "{'max_depth': 7}"
            ]
          },
          "metadata": {},
          "execution_count": 74
        }
      ]
    },
    {
      "cell_type": "code",
      "source": [
        "for i in scores:\n",
        "  print(i)\n",
        "  print(xgb_GS.cv_results_[i][xgb_GS.best_index_])"
      ],
      "metadata": {
        "colab": {
          "base_uri": "https://localhost:8080/"
        },
        "id": "r5ARnmjc6c0Z",
        "outputId": "c8eaaf4c-c0ca-4caa-a285-96397b70954b"
      },
      "execution_count": 75,
      "outputs": [
        {
          "output_type": "stream",
          "name": "stdout",
          "text": [
            "mean_test_accuracy\n",
            "0.9281813539735011\n",
            "mean_test_recall\n",
            "0.9159874412177785\n",
            "mean_test_f1\n",
            "0.9268728651989014\n",
            "mean_test_precision\n",
            "0.9393324838995255\n"
          ]
        }
      ]
    },
    {
      "cell_type": "code",
      "source": [
        "ConfusionMatrixDisplay.from_predictions(y_test,xgb_GS.best_estimator_.predict(X_test_std))\n",
        "plt.title(\"XGB\")\n",
        "plt.show()"
      ],
      "metadata": {
        "colab": {
          "base_uri": "https://localhost:8080/",
          "height": 295
        },
        "id": "RMAHpmMM-woq",
        "outputId": "b0811a45-12b5-4390-9352-3a099ec84238"
      },
      "execution_count": 80,
      "outputs": [
        {
          "output_type": "display_data",
          "data": {
            "text/plain": [
              "<Figure size 432x288 with 2 Axes>"
            ],
            "image/png": "[encoded data removed]"
          },
          "metadata": {
            "needs_background": "light"
          }
        }
      ]
    },
    {
      "cell_type": "code",
      "source": [
        "ConfusionMatrixDisplay.from_predictions(y_test_sm,xgb_GS.best_estimator_.predict(X_test_std_sm))\n",
        "plt.title(\"XGB\")\n",
        "plt.show()"
      ],
      "metadata": {
        "colab": {
          "base_uri": "https://localhost:8080/",
          "height": 295
        },
        "id": "zFEn8ps4Auko",
        "outputId": "131fe3dd-14ee-4033-aec0-a1444d435e8d"
      },
      "execution_count": 81,
      "outputs": [
        {
          "output_type": "display_data",
          "data": {
            "text/plain": [
              "<Figure size 432x288 with 2 Axes>"
            ],
            "image/png": "[encoded data removed]"
          },
          "metadata": {
            "needs_background": "light"
          }
        }
      ]
    },
    {
      "cell_type": "code",
      "source": [
        "y_predicted = xgb_GS.best_estimator_.predict(X_test_std)\n",
        "print('accuracy:')\n",
        "print(accuracy_score(y_test,y_predicted))\n",
        "print('precision')\n",
        "print(precision_score(y_test,y_predicted))\n",
        "print('recall')\n",
        "print(recall_score(y_test,y_predicted))\n",
        "print('f')\n",
        "print(f1_score(y_test,y_predicted))"
      ],
      "metadata": {
        "colab": {
          "base_uri": "https://localhost:8080/"
        },
        "id": "NGuT5LCvA5Mq",
        "outputId": "5496a61d-fea4-4ef3-8230-54c52d0a7cab"
      },
      "execution_count": 82,
      "outputs": [
        {
          "output_type": "stream",
          "name": "stdout",
          "text": [
            "accuracy:\n",
            "0.8026315789473685\n",
            "precision\n",
            "1.0\n",
            "recall\n",
            "0.7368421052631579\n",
            "f\n",
            "0.8484848484848484\n"
          ]
        }
      ]
    },
    {
      "cell_type": "code",
      "source": [
        "xgb2 = XGBClassifier(n_estimators=100)"
      ],
      "metadata": {
        "id": "AonnPbRNBM2v"
      },
      "execution_count": 83,
      "outputs": []
    },
    {
      "cell_type": "code",
      "source": [
        "xgb2_GS =GridSearchCV (xgb2,params_grid,cv = cv,scoring =['f1','precision','recall','accuracy'],return_train_score = True,refit = 'accuracy')"
      ],
      "metadata": {
        "id": "KRmakfhvBVzv"
      },
      "execution_count": 84,
      "outputs": []
    },
    {
      "cell_type": "code",
      "source": [
        "xgb2_GS.fit(X_std,y_train)"
      ],
      "metadata": {
        "colab": {
          "base_uri": "https://localhost:8080/"
        },
        "id": "8UCX9CJIBbTY",
        "outputId": "ac64ccf1-00b5-4224-afb6-19d936eb0c07"
      },
      "execution_count": 86,
      "outputs": [
        {
          "output_type": "execute_result",
          "data": {
            "text/plain": [
              "GridSearchCV(cv=RepeatedKFold(n_repeats=3, n_splits=5, random_state=None),\n",
              "             estimator=XGBClassifier(),\n",
              "             param_grid={'max_depth': [4, 5, 6, 7, 8, 10, 12]},\n",
              "             refit='accuracy', return_train_score=True,\n",
              "             scoring=['f1', 'precision', 'recall', 'accuracy'])"
            ]
          },
          "metadata": {},
          "execution_count": 86
        }
      ]
    },
    {
      "cell_type": "code",
      "source": [
        "xgb2_GS.best_score_"
      ],
      "metadata": {
        "colab": {
          "base_uri": "https://localhost:8080/"
        },
        "id": "R7DNcCYbBlM5",
        "outputId": "7370a754-9540-46e8-9d80-fcd2798935bf"
      },
      "execution_count": 87,
      "outputs": [
        {
          "output_type": "execute_result",
          "data": {
            "text/plain": [
              "0.8882352941176472"
            ]
          },
          "metadata": {},
          "execution_count": 87
        }
      ]
    },
    {
      "cell_type": "code",
      "source": [
        "xgb2_GS.best_params_"
      ],
      "metadata": {
        "colab": {
          "base_uri": "https://localhost:8080/"
        },
        "id": "4fFc567RB80X",
        "outputId": "8a0d0bfe-f6df-4d55-b43e-0561c0202852"
      },
      "execution_count": 88,
      "outputs": [
        {
          "output_type": "execute_result",
          "data": {
            "text/plain": [
              "{'max_depth': 5}"
            ]
          },
          "metadata": {},
          "execution_count": 88
        }
      ]
    },
    {
      "cell_type": "code",
      "source": [
        "for i in scores:\n",
        "  print(i)\n",
        "  print(xgb2_GS.cv_results_[i][xgb2_GS.best_index_])"
      ],
      "metadata": {
        "colab": {
          "base_uri": "https://localhost:8080/"
        },
        "id": "jaN0QFS2B-sd",
        "outputId": "b061ef0d-3592-4120-f446-d845ae2777ca"
      },
      "execution_count": 89,
      "outputs": [
        {
          "output_type": "stream",
          "name": "stdout",
          "text": [
            "mean_test_accuracy\n",
            "0.8882352941176472\n",
            "mean_test_recall\n",
            "0.9754221828694569\n",
            "mean_test_f1\n",
            "0.9288199871754063\n",
            "mean_test_precision\n",
            "0.8870865710214225\n"
          ]
        }
      ]
    },
    {
      "cell_type": "code",
      "source": [
        "ConfusionMatrixDisplay.from_predictions(y_test,xgb2_GS.best_estimator_.predict(X_test_std))\n",
        "plt.title(\"XGB\")\n",
        "plt.show()"
      ],
      "metadata": {
        "colab": {
          "base_uri": "https://localhost:8080/",
          "height": 295
        },
        "id": "y5ZlMJxuCDyb",
        "outputId": "7d94b356-ef49-4d23-c26e-10cfcf8ef02b"
      },
      "execution_count": 90,
      "outputs": [
        {
          "output_type": "display_data",
          "data": {
            "text/plain": [
              "<Figure size 432x288 with 2 Axes>"
            ],
            "image/png": "[encoded data removed]"
          },
          "metadata": {
            "needs_background": "light"
          }
        }
      ]
    },
    {
      "cell_type": "code",
      "source": [
        "ConfusionMatrixDisplay.from_predictions(y_test_sm,xgb2_GS.best_estimator_.predict(X_test_std_sm))\n",
        "plt.title(\"XGB\")\n",
        "plt.show()"
      ],
      "metadata": {
        "colab": {
          "base_uri": "https://localhost:8080/",
          "height": 295
        },
        "id": "ZI1YNwjjCHNf",
        "outputId": "77775b87-f88d-4733-ef81-fcd92b376572"
      },
      "execution_count": 91,
      "outputs": [
        {
          "output_type": "display_data",
          "data": {
            "text/plain": [
              "<Figure size 432x288 with 2 Axes>"
            ],
            "image/png": "[encoded data removed]"
          },
          "metadata": {
            "needs_background": "light"
          }
        }
      ]
    },
    {
      "cell_type": "code",
      "source": [
        "y_predicted = xgb2_GS.best_estimator_.predict(X_test_std)\n",
        "print('accuracy:')\n",
        "print(accuracy_score(y_test,y_predicted))\n",
        "print('precision')\n",
        "print(precision_score(y_test,y_predicted))\n",
        "print('recall')\n",
        "print(recall_score(y_test,y_predicted))\n",
        "print('f')\n",
        "print(f1_score(y_test,y_predicted))"
      ],
      "metadata": {
        "colab": {
          "base_uri": "https://localhost:8080/"
        },
        "id": "qnzz_74bCKxE",
        "outputId": "432002e2-2b71-417c-ba77-026e81b756a0"
      },
      "execution_count": 92,
      "outputs": [
        {
          "output_type": "stream",
          "name": "stdout",
          "text": [
            "accuracy:\n",
            "0.8947368421052632\n",
            "precision\n",
            "0.9152542372881356\n",
            "recall\n",
            "0.9473684210526315\n",
            "f\n",
            "0.9310344827586206\n"
          ]
        }
      ]
    },
    {
      "cell_type": "code",
      "source": [],
      "metadata": {
        "id": "52RYsfC6Cewa"
      },
      "execution_count": null,
      "outputs": []
    },
    {
      "cell_type": "markdown",
      "source": [
        "# ELM"
      ],
      "metadata": {
        "id": "gnPg6tW5GL5l"
      }
    },
    {
      "cell_type": "code",
      "source": [
        "from skelm import ELMClassifier"
      ],
      "metadata": {
        "id": "mLmePnaeHQtj"
      },
      "execution_count": 15,
      "outputs": []
    },
    {
      "cell_type": "code",
      "source": [
        "!pip install scikit-elm "
      ],
      "metadata": {
        "colab": {
          "base_uri": "https://localhost:8080/"
        },
        "id": "YowLZE3qju8K",
        "outputId": "fb9db496-368f-4037-bb1c-6537638b6122"
      },
      "execution_count": 14,
      "outputs": [
        {
          "output_type": "stream",
          "name": "stdout",
          "text": [
            "Looking in indexes: https://pypi.org/simple, https://us-python.pkg.dev/colab-wheels/public/simple/\n",
            "Collecting scikit-elm\n",
            "  Downloading scikit_elm-0.21a0-py3-none-any.whl (30 kB)\n",
            "Requirement already satisfied: scikit-learn in /usr/local/lib/python3.8/dist-packages (from scikit-elm) (1.0.2)\n",
            "Requirement already satisfied: scipy in /usr/local/lib/python3.8/dist-packages (from scikit-elm) (1.7.3)\n",
            "Requirement already satisfied: numpy in /usr/local/lib/python3.8/dist-packages (from scikit-elm) (1.21.6)\n",
            "Requirement already satisfied: joblib>=0.11 in /usr/local/lib/python3.8/dist-packages (from scikit-learn->scikit-elm) (1.2.0)\n",
            "Requirement already satisfied: threadpoolctl>=2.0.0 in /usr/local/lib/python3.8/dist-packages (from scikit-learn->scikit-elm) (3.1.0)\n",
            "Installing collected packages: scikit-elm\n",
            "Successfully installed scikit-elm-0.21a0\n"
          ]
        }
      ]
    },
    {
      "cell_type": "code",
      "source": [
        "y_sm = np.array(y_sm)\n",
        "X_sm_std = np.array(X_sm_std)\n",
        "from sklearn.model_selection import KFold\n",
        "acc=[]\n",
        "precision= []\n",
        "f1= []\n",
        "recall=[]\n",
        "for i in range(5):\n",
        "\n",
        "        kf = KFold(n_splits=5, random_state=42,shuffle=True)\n",
        "        for train_index, test_index in kf.split(X_sm_std):\n",
        "          X_train_folds = X_sm_std[train_index]\n",
        "          y_train_folds = y_sm[train_index]\n",
        "          X_val_fold = X_sm_std[test_index]\n",
        "          y_val_fold = y_sm[test_index]\n",
        "          elm =ELMClassifier(alpha=0.1, n_neurons=(100, 200, 300, 1000), ufunc='sigm')\n",
        "          elm.fit(X_train_folds,y_train_folds)\n",
        "          y_predictions = elm.predict(X_val_fold)\n",
        "          acc.append(accuracy_score(y_val_fold, y_predictions))\n",
        "          precision.append(precision_score(y_val_fold, y_predictions))\n",
        "          f1.append(f1_score(y_val_fold, y_predictions))\n",
        "          recall.append(recall_score(y_val_fold, y_predictions))"
      ],
      "metadata": {
        "id": "_g_ZGvDIj1Tw"
      },
      "execution_count": 29,
      "outputs": []
    },
    {
      "cell_type": "code",
      "source": [
        "print('accuracy')\n",
        "print(np.mean(acc))\n",
        "print('precision')\n",
        "print(np.mean(precision))\n",
        "print('f1')\n",
        "print(np.mean(f1))\n",
        "print('recall')\n",
        "print(np.mean(recall))"
      ],
      "metadata": {
        "colab": {
          "base_uri": "https://localhost:8080/"
        },
        "id": "BjfRPMB4JVzP",
        "outputId": "c89be0cf-f0b6-4747-fc5d-a50433a428fd"
      },
      "execution_count": 30,
      "outputs": [
        {
          "output_type": "stream",
          "name": "stdout",
          "text": [
            "accuracy\n",
            "0.8603225026203338\n",
            "precision\n",
            "0.9414823428387195\n",
            "f1\n",
            "0.8439154089255179\n",
            "recall\n",
            "0.765859172803769\n"
          ]
        }
      ]
    },
    {
      "cell_type": "code",
      "source": [
        "y_predicted = elm.predict(X_test_std)\n",
        "print('accuracy:')\n",
        "print(accuracy_score(y_test,y_predicted))\n",
        "print('precision')\n",
        "print(precision_score(y_test,y_predicted))\n",
        "print('recall')\n",
        "print(recall_score(y_test,y_predicted))\n",
        "print('f')\n",
        "print(f1_score(y_test,y_predicted))"
      ],
      "metadata": {
        "colab": {
          "base_uri": "https://localhost:8080/"
        },
        "id": "ckPqEqLeLxQ0",
        "outputId": "d347aecb-f504-4bc0-eb46-222e8922ad96"
      },
      "execution_count": 171,
      "outputs": [
        {
          "output_type": "stream",
          "name": "stdout",
          "text": [
            "accuracy:\n",
            "0.9342105263157895\n",
            "precision\n",
            "1.0\n",
            "recall\n",
            "0.9122807017543859\n",
            "f\n",
            "0.9541284403669724\n"
          ]
        }
      ]
    },
    {
      "cell_type": "code",
      "source": [
        "elm2 = ELMClassifier(n_neurons=(50, 100, 300, 1000),ufunc = 'sigm',alpha = 0.1)"
      ],
      "metadata": {
        "id": "yBPVyAU_N2OO"
      },
      "execution_count": 154,
      "outputs": []
    },
    {
      "cell_type": "code",
      "source": [
        "elm2.fit(X_std,y_train)"
      ],
      "metadata": {
        "colab": {
          "base_uri": "https://localhost:8080/"
        },
        "id": "SppvxMuxPGOv",
        "outputId": "4769d864-f3a5-49ab-cfcf-e91ecfcb73bb"
      },
      "execution_count": 155,
      "outputs": [
        {
          "output_type": "execute_result",
          "data": {
            "text/plain": [
              "ELMClassifier(alpha=0.1, n_neurons=(50, 100, 300, 1000), ufunc='sigm')"
            ]
          },
          "metadata": {},
          "execution_count": 155
        }
      ]
    },
    {
      "cell_type": "code",
      "source": [
        "y_predicted = elm2.predict(X_test_std)\n",
        "print('accuracy:')\n",
        "print(accuracy_score(y_test,y_predicted))\n",
        "print('precision')\n",
        "print(precision_score(y_test,y_predicted))\n",
        "print('recall')\n",
        "print(recall_score(y_test,y_predicted))\n",
        "print('f')\n",
        "print(f1_score(y_test,y_predicted))"
      ],
      "metadata": {
        "colab": {
          "base_uri": "https://localhost:8080/"
        },
        "id": "C1UFwFvKPJrt",
        "outputId": "377e0838-8fc1-4415-c78a-d7805734f4eb"
      },
      "execution_count": 156,
      "outputs": [
        {
          "output_type": "stream",
          "name": "stdout",
          "text": [
            "accuracy:\n",
            "0.7894736842105263\n",
            "precision\n",
            "0.8596491228070176\n",
            "recall\n",
            "0.8596491228070176\n",
            "f\n",
            "0.8596491228070176\n"
          ]
        }
      ]
    },
    {
      "cell_type": "code",
      "source": [
        "ConfusionMatrixDisplay.from_predictions(y_test,elm.predict(X_test_std))\n",
        "plt.title(\"ELM\")\n",
        "plt.show()"
      ],
      "metadata": {
        "colab": {
          "base_uri": "https://localhost:8080/",
          "height": 295
        },
        "id": "4j3l_PgJPNfB",
        "outputId": "e25995eb-5639-438f-e1d7-c38ca6826cba"
      },
      "execution_count": 172,
      "outputs": [
        {
          "output_type": "display_data",
          "data": {
            "text/plain": [
              "<Figure size 432x288 with 2 Axes>"
            ],
            "image/png": "[encoded data removed]"
          },
          "metadata": {
            "needs_background": "light"
          }
        }
      ]
    },
    {
      "cell_type": "code",
      "source": [],
      "metadata": {
        "id": "jvx7ABM2P2CN"
      },
      "execution_count": 172,
      "outputs": []
    }
  ]
}